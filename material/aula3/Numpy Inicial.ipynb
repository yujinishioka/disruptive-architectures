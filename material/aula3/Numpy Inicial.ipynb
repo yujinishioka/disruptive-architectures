{
  "cells": [
    {
      "cell_type": "markdown",
      "metadata": {
        "id": "Go4GjFERR_bq"
      },
      "source": [
        "# Numpy \n",
        "(Numerical Python)\n",
        "\n",
        "Principais recursos:\n",
        "- Poderoso objeto array multidimensional.\n",
        "- Funções matemáticas sofisticadas para operações com arrays, sem uso de laços for.\n",
        "- Recursos de álgebra linear e geração de números aleatórios.\n",
        "\n",
        "Documentação: https://numpy.org/doc/1.24"
      ]
    },
    {
      "cell_type": "code",
      "execution_count": 1,
      "metadata": {
        "id": "0zCK5kmLSk5Y"
      },
      "outputs": [],
      "source": [
        "# Importando o Numpy\n",
        "import numpy as np"
      ]
    },
    {
      "cell_type": "code",
      "execution_count": 2,
      "metadata": {
        "id": "UUmcGDBwTH12"
      },
      "outputs": [
        {
          "data": {
            "text/plain": [
              "array([0, 1, 2, 3, 4, 5, 6, 7, 8, 9])"
            ]
          },
          "execution_count": 2,
          "metadata": {},
          "output_type": "execute_result"
        }
      ],
      "source": [
        "# Criando um array Numpy\n",
        "np.arange(10)"
      ]
    },
    {
      "cell_type": "code",
      "execution_count": null,
      "metadata": {
        "id": "FhOM1nMOTa6P"
      },
      "outputs": [],
      "source": [
        "# Importando parte do pacote:\n",
        "from numpy import arange"
      ]
    },
    {
      "cell_type": "code",
      "execution_count": null,
      "metadata": {
        "id": "3hy6QakwTny_"
      },
      "outputs": [],
      "source": [
        "arange(20)"
      ]
    },
    {
      "cell_type": "code",
      "execution_count": 3,
      "metadata": {
        "id": "9WhJMCF6TqCP"
      },
      "outputs": [],
      "source": [
        "# Criando arrays a partir de lista:\n",
        "numeros = np.array([100, 988, 345, 1200])"
      ]
    },
    {
      "cell_type": "code",
      "execution_count": 4,
      "metadata": {
        "id": "0I9f11-oT-F0"
      },
      "outputs": [
        {
          "data": {
            "text/plain": [
              "array([ 100,  988,  345, 1200])"
            ]
          },
          "execution_count": 4,
          "metadata": {},
          "output_type": "execute_result"
        }
      ],
      "source": [
        "numeros"
      ]
    },
    {
      "cell_type": "code",
      "execution_count": 5,
      "metadata": {
        "id": "cV9ccSPVT-4m"
      },
      "outputs": [
        {
          "data": {
            "text/plain": [
              "numpy.ndarray"
            ]
          },
          "execution_count": 5,
          "metadata": {},
          "output_type": "execute_result"
        }
      ],
      "source": [
        "type(numeros)"
      ]
    },
    {
      "cell_type": "code",
      "execution_count": 6,
      "metadata": {
        "id": "CdjAS8MfUKtl"
      },
      "outputs": [
        {
          "data": {
            "text/plain": [
              "dtype('int32')"
            ]
          },
          "execution_count": 6,
          "metadata": {},
          "output_type": "execute_result"
        }
      ],
      "source": [
        "# Tipos de dados do Numpy\n",
        "numeros.dtype"
      ]
    },
    {
      "cell_type": "code",
      "execution_count": 7,
      "metadata": {
        "id": "_dWEMombUXb2"
      },
      "outputs": [],
      "source": [
        "# Carregando dados externos com o Numpy:\n",
        "teste = np.loadtxt(fname = 'teste_num.txt', dtype = int)"
      ]
    },
    {
      "cell_type": "code",
      "execution_count": 8,
      "metadata": {
        "id": "ci6fukotVaqd"
      },
      "outputs": [
        {
          "data": {
            "text/plain": [
              "array([ 10, 123,  30,  45,  68, 321])"
            ]
          },
          "execution_count": 8,
          "metadata": {},
          "output_type": "execute_result"
        }
      ],
      "source": [
        "teste"
      ]
    },
    {
      "cell_type": "code",
      "execution_count": 9,
      "metadata": {
        "id": "rmE_8ezMVblk"
      },
      "outputs": [
        {
          "data": {
            "text/plain": [
              "dtype('int32')"
            ]
          },
          "execution_count": 9,
          "metadata": {},
          "output_type": "execute_result"
        }
      ],
      "source": [
        "teste.dtype"
      ]
    },
    {
      "cell_type": "code",
      "execution_count": 10,
      "metadata": {
        "id": "tourpmrdViB1"
      },
      "outputs": [],
      "source": [
        "# Array de duas dimensões (Matrizes e Datasets)\n",
        "dados = [\n",
        "    ['São Paulo', 'Rio de Janeiro', 'Minas Gerais', 'Bahia'],\n",
        "    ['Paraná', 'Santa Catarina', 'Rio Grande do Sul', 'Espírito Santo'],\n",
        "    ['Ceará', 'Bahia', 'Maranhão', 'Alagoas']\n",
        "]"
      ]
    },
    {
      "cell_type": "code",
      "execution_count": 11,
      "metadata": {
        "id": "maDhNSybXCr7"
      },
      "outputs": [
        {
          "data": {
            "text/plain": [
              "[['São Paulo', 'Rio de Janeiro', 'Minas Gerais', 'Bahia'],\n",
              " ['Paraná', 'Santa Catarina', 'Rio Grande do Sul', 'Espírito Santo'],\n",
              " ['Ceará', 'Bahia', 'Maranhão', 'Alagoas']]"
            ]
          },
          "execution_count": 11,
          "metadata": {},
          "output_type": "execute_result"
        }
      ],
      "source": [
        "dados"
      ]
    },
    {
      "cell_type": "code",
      "execution_count": 12,
      "metadata": {
        "id": "Rw1z1_vXXDi6"
      },
      "outputs": [],
      "source": [
        "estados = np.array(dados)"
      ]
    },
    {
      "cell_type": "code",
      "execution_count": 13,
      "metadata": {
        "id": "FNmUmx7xXO47"
      },
      "outputs": [
        {
          "data": {
            "text/plain": [
              "array([['São Paulo', 'Rio de Janeiro', 'Minas Gerais', 'Bahia'],\n",
              "       ['Paraná', 'Santa Catarina', 'Rio Grande do Sul',\n",
              "        'Espírito Santo'],\n",
              "       ['Ceará', 'Bahia', 'Maranhão', 'Alagoas']], dtype='<U17')"
            ]
          },
          "execution_count": 13,
          "metadata": {},
          "output_type": "execute_result"
        }
      ],
      "source": [
        "estados"
      ]
    },
    {
      "cell_type": "code",
      "execution_count": 14,
      "metadata": {
        "id": "LLQnQ34tXP7K"
      },
      "outputs": [
        {
          "data": {
            "text/plain": [
              "numpy.ndarray"
            ]
          },
          "execution_count": 14,
          "metadata": {},
          "output_type": "execute_result"
        }
      ],
      "source": [
        "type(estados)"
      ]
    },
    {
      "cell_type": "code",
      "execution_count": 15,
      "metadata": {
        "id": "U8nXnPa9XTTk"
      },
      "outputs": [
        {
          "data": {
            "text/plain": [
              "(3, 4)"
            ]
          },
          "execution_count": 15,
          "metadata": {},
          "output_type": "execute_result"
        }
      ],
      "source": [
        "estados.shape"
      ]
    },
    {
      "cell_type": "code",
      "execution_count": 16,
      "metadata": {
        "id": "HHpM9lllXfoD"
      },
      "outputs": [],
      "source": [
        "# Comparando desempenho do Numpy e listas\n",
        "np_array = np.arange(2000000)"
      ]
    },
    {
      "cell_type": "code",
      "execution_count": 17,
      "metadata": {
        "id": "6QhHtrUjXwyj"
      },
      "outputs": [],
      "source": [
        "py_list = list(range(2000000))"
      ]
    },
    {
      "cell_type": "code",
      "execution_count": 18,
      "metadata": {
        "id": "iNw6aVAPX5Kz"
      },
      "outputs": [
        {
          "name": "stdout",
          "output_type": "stream",
          "text": [
            "CPU times: total: 125 ms\n",
            "Wall time: 169 ms\n"
          ]
        }
      ],
      "source": [
        "%time for _ in range(100): np_array *= 2"
      ]
    },
    {
      "cell_type": "code",
      "execution_count": 19,
      "metadata": {
        "id": "gw_aArkTYO69"
      },
      "outputs": [
        {
          "name": "stdout",
          "output_type": "stream",
          "text": [
            "CPU times: total: 21.7 s\n",
            "Wall time: 21.7 s\n"
          ]
        }
      ],
      "source": [
        "%time for _ in range(100): py_list = [x * 2 for x in py_list]"
      ]
    },
    {
      "cell_type": "code",
      "execution_count": null,
      "metadata": {
        "id": "zbqfJGlaYWOT"
      },
      "outputs": [],
      "source": []
    }
  ],
  "metadata": {
    "colab": {
      "provenance": []
    },
    "kernelspec": {
      "display_name": "Python 3.9.12 ('base')",
      "language": "python",
      "name": "python3"
    },
    "language_info": {
      "codemirror_mode": {
        "name": "ipython",
        "version": 3
      },
      "file_extension": ".py",
      "mimetype": "text/x-python",
      "name": "python",
      "nbconvert_exporter": "python",
      "pygments_lexer": "ipython3",
      "version": "3.9.12"
    },
    "vscode": {
      "interpreter": {
        "hash": "ad2bdc8ecc057115af97d19610ffacc2b4e99fae6737bb82f5d7fb13d2f2c186"
      }
    }
  },
  "nbformat": 4,
  "nbformat_minor": 0
}
