{
  "nbformat": 4,
  "nbformat_minor": 0,
  "metadata": {
    "colab": {
      "provenance": []
    },
    "kernelspec": {
      "name": "python3",
      "display_name": "Python 3"
    },
    "language_info": {
      "name": "python"
    }
  },
  "cells": [
    {
      "cell_type": "code",
      "source": [
        "!pip install ultralytics"
      ],
      "metadata": {
        "id": "c5w5dtnZzZS5"
      },
      "execution_count": null,
      "outputs": []
    },
    {
      "cell_type": "code",
      "execution_count": null,
      "metadata": {
        "id": "igo4vWWpzC3O"
      },
      "outputs": [],
      "source": [
        "# Importando o YOLO\n",
        "from ultralytics import YOLO"
      ]
    },
    {
      "cell_type": "code",
      "source": [
        "# Importando o pacote Pytorch\n",
        "import torch"
      ],
      "metadata": {
        "id": "q6TAvMnU1MkB"
      },
      "execution_count": null,
      "outputs": []
    },
    {
      "cell_type": "code",
      "source": [
        "# Importando as demais bibliotecas\n",
        "import cv2\n",
        "import matplotlib.pyplot as plt\n",
        "import os\n",
        "from PIL import Image\n",
        "from google.colab.patches import cv2_imshow"
      ],
      "metadata": {
        "id": "JSugHteR0Gfk"
      },
      "execution_count": null,
      "outputs": []
    },
    {
      "cell_type": "code",
      "source": [
        "model = YOLO('yolov8n.pt')"
      ],
      "metadata": {
        "id": "RRVVEcMizQv-"
      },
      "execution_count": null,
      "outputs": []
    },
    {
      "cell_type": "code",
      "source": [
        "img = cv2.imread('/content/cachorros.jpg')\n",
        "cv2_imshow(img)"
      ],
      "metadata": {
        "id": "C0AD23BEzslB"
      },
      "execution_count": null,
      "outputs": []
    },
    {
      "cell_type": "markdown",
      "source": [
        "Para a deteção usaremos o método model.predict().\n",
        "\n",
        "Ele aceita basicamente os mesmos parâmetros do método via CLI, que vimos nos exemplos mais acima.\n",
        "\n",
        "* source -- A função aceita a imagem nos seguintes formatos: \n",
        "  * imagem em ndarray (usando o cv2.imread) ou PIL\n",
        "  * diretório\n",
        "  * caminho\n",
        "  * URL\n",
        "  * video\n",
        "  * webcam (valor 0, que corresponde ao indice do dispositivo de câmera)\n",
        "\n",
        "* save -- se desejar salvar a imagem no diretório predict deixei save=True. aqui nós vamos fazer de outra maneira, então não precisa setar esse parâmetro\n",
        "\n",
        "* conf -- limiar de confiança \n",
        "\n",
        "* show -- Informe o parâmetro show=True para mostrar os valores das predições\n",
        "\n",
        "* save_txt -- se deseja salvar em um txt os resultados\n",
        "\n",
        "mais parâmetros https://docs.ultralytics.com/cfg/"
      ],
      "metadata": {
        "id": "uQLveS9w097j"
      }
    },
    {
      "cell_type": "code",
      "source": [
        "resultados = model.predict(source=img)\n",
        "resultados"
      ],
      "metadata": {
        "id": "HJw7inZb0W5-"
      },
      "execution_count": null,
      "outputs": []
    },
    {
      "cell_type": "code",
      "source": [
        "for r in resultados:\n",
        "  print(r.boxes.boxes)"
      ],
      "metadata": {
        "id": "MkjBMIV_1PfQ"
      },
      "execution_count": null,
      "outputs": []
    },
    {
      "cell_type": "code",
      "source": [
        "for r in resultados:\n",
        "  print(r.boxes.conf)"
      ],
      "metadata": {
        "id": "UNkod3LQ1clW"
      },
      "execution_count": null,
      "outputs": []
    },
    {
      "cell_type": "markdown",
      "source": [
        "### Desenhando a caixa delimitadora sobre a imagem"
      ],
      "metadata": {
        "id": "hhnscABo2MXL"
      }
    },
    {
      "cell_type": "code",
      "source": [
        "import funcoes_desenho"
      ],
      "metadata": {
        "id": "L4yPGKaC1eTf"
      },
      "execution_count": null,
      "outputs": []
    },
    {
      "cell_type": "code",
      "source": [
        "resultado = funcoes_desenho.desenha_caixas(img, resultados[0].boxes.boxes)\n",
        "cv2_imshow(resultado)"
      ],
      "metadata": {
        "id": "VkAekTgf2kiH"
      },
      "execution_count": null,
      "outputs": []
    },
    {
      "cell_type": "markdown",
      "source": [
        "## Teste com outros modelos "
      ],
      "metadata": {
        "id": "NwICBjSp3R1m"
      }
    },
    {
      "cell_type": "code",
      "source": [
        "model = YOLO('yolov8m.pt')\n",
        "caminho_img = '/content/italia.jpg'\n",
        "img = cv2.imread(caminho_img)\n",
        "resultados = model.predict(source = img, conf=0.6)\n",
        "resultado_img = funcoes_desenho.desenha_caixas(img, resultados[0].boxes.boxes)\n",
        "cv2_imshow(resultado_img)"
      ],
      "metadata": {
        "id": "WaOluN9N2xFE"
      },
      "execution_count": null,
      "outputs": []
    },
    {
      "cell_type": "markdown",
      "source": [
        "> Usando o YOLOv8x (extra large)"
      ],
      "metadata": {
        "id": "P7qv0y5G3cFg"
      }
    },
    {
      "cell_type": "code",
      "source": [
        "model = YOLO('yolov8x.pt')\n",
        "caminho_img = '/content/gato03.jpg'\n",
        "img = cv2.imread(caminho_img)\n",
        "resultados = model.predict(source = img, conf=0.6)\n",
        "resultado_img = funcoes_desenho.desenha_caixas(img, resultados[0].boxes.boxes)\n",
        "cv2_imshow(resultado_img)"
      ],
      "metadata": {
        "id": "Cf5qliiD3JbX"
      },
      "execution_count": null,
      "outputs": []
    },
    {
      "cell_type": "markdown",
      "source": [
        "Detecção em vídeos"
      ],
      "metadata": {
        "id": "8AL9EZX65z7l"
      }
    },
    {
      "cell_type": "code",
      "source": [],
      "metadata": {
        "id": "YAh0i3pY5BEb"
      },
      "execution_count": null,
      "outputs": []
    }
  ]
}