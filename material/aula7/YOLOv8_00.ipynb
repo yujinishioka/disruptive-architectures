{
  "cells": [
    {
      "cell_type": "markdown",
      "metadata": {
        "id": "LlP-7YDQdSwu"
      },
      "source": [
        "# YOLOv8"
      ]
    },
    {
      "cell_type": "markdown",
      "metadata": {
        "id": "acHl5F9w8B17"
      },
      "source": [
        "## Instalação e Configuração"
      ]
    },
    {
      "cell_type": "code",
      "execution_count": null,
      "metadata": {
        "id": "r_2UEuaPJe1G"
      },
      "outputs": [],
      "source": [
        "# Instalando o pacote do YOLO v8\n",
        "!pip install ultralytics"
      ]
    },
    {
      "cell_type": "code",
      "execution_count": null,
      "metadata": {
        "id": "Hw-7jeqrJqim"
      },
      "outputs": [],
      "source": [
        "import ultralytics\n",
        "import cv2"
      ]
    },
    {
      "cell_type": "code",
      "execution_count": null,
      "metadata": {
        "id": "NYgkAaQXJw7_"
      },
      "outputs": [],
      "source": [
        "ultralytics.checks()"
      ]
    },
    {
      "cell_type": "code",
      "execution_count": null,
      "metadata": {
        "id": "SLqVaSu3KBjz"
      },
      "outputs": [],
      "source": [
        "import torch\n",
        "torch.cuda.is_available()"
      ]
    },
    {
      "cell_type": "code",
      "execution_count": null,
      "metadata": {
        "id": "yWascSrjKUl9"
      },
      "outputs": [],
      "source": [
        "# conda install pytorch torchvision torchaudio pytorch-cuda=11.7 -c pytorch -c nvidia"
      ]
    },
    {
      "cell_type": "code",
      "execution_count": null,
      "metadata": {
        "id": "yRd1N073KaXP"
      },
      "outputs": [],
      "source": [
        "!nvidia-smi"
      ]
    },
    {
      "cell_type": "markdown",
      "metadata": {
        "id": "wBkHIsOy8pOk"
      },
      "source": [
        "### Clonar repositório (alternativa)"
      ]
    },
    {
      "cell_type": "code",
      "execution_count": null,
      "metadata": {
        "id": "CJoHYPBKKh_B"
      },
      "outputs": [],
      "source": [
        "#!git clone https://github.com/ultralytics/ultralytics\n",
        "#!pip install -r /content/ultralytics/requirements.txt\n",
        "#!pip install -qe ultralytics"
      ]
    },
    {
      "cell_type": "markdown",
      "metadata": {
        "id": "R2Blq69-1fsi"
      },
      "source": [
        "### Importação das demais bibliotecas"
      ]
    },
    {
      "cell_type": "code",
      "execution_count": null,
      "metadata": {
        "id": "oG7KPHTzKrz7"
      },
      "outputs": [],
      "source": [
        "import cv2\n",
        "import matplotlib.pyplot as plt\n",
        "import os\n",
        "from PIL import Image\n",
        "from google.colab.patches import cv2_imshow"
      ]
    },
    {
      "cell_type": "markdown",
      "metadata": {
        "id": "r9HyL3EI_s56"
      },
      "source": [
        "## Download do modelo\n",
        "\n",
        "- Os modelos do YOLOv8 podem ser baixados aqui: \n",
        "https://github.com/ultralytics/assets/releases"
      ]
    },
    {
      "cell_type": "code",
      "execution_count": null,
      "metadata": {
        "id": "dPYJdz5iMoIv"
      },
      "outputs": [],
      "source": [
        "!wget https://github.com/ultralytics/assets/releases/download/v0.0.0/yolov8n.pt"
      ]
    },
    {
      "cell_type": "markdown",
      "metadata": {
        "id": "5h4U36_Q-IOO"
      },
      "source": [
        "## Realizando a detecção\n",
        "\n",
        "A forma mais rápida de executar a deteçcão é através da CLI, conforme pode ver abaixo a sintaxe.\n",
        "\n",
        "Os parâmetros:\n",
        "* **task** - tarefa, podendo ser detecção, segmentação ou classificação\n",
        "* **model** - o modelo que queremos usar. São disponibilizados 5 modelos: YOLOv8n (nano), YOLOv8s (small), YOLOv8m (medium), YOLOv8l (large), YOLOv8x (extra large). Nano é o mais rápido e o menor (menos pesado para rodar), enquanto que o Extra Large (YOLOv8x) é o mais preciso porém mais pesado para rodar, portanto será mais lento. \n",
        "  Para o valor desse parâmetro, basta informar o nome e ao lado .pt pois é a extensão do modelo treinado em pytorch. \n",
        "\n",
        "* **mode** - basicamente é o que queremos com o comando. queremos fazer a detecção/inferência/predição, portanto deixe =predict. Valores aceitos: [train, val, predict, export]\n",
        "\n",
        "* **conf** - o limiar (threshold) que usaremos para filtrar detecções \"fracas\". Se a confiança estiver abaixo desse valor, não será considerada. Por padrão podemos configurar com um limiar bem baixo (ex: 0.25) e depois aumentar, caso verifique que detectou incorretamente algum objeto.  \n",
        "* **source** - a imagem ou vídeo que queremos fazer a detecção."
      ]
    },
    {
      "cell_type": "code",
      "execution_count": null,
      "metadata": {
        "id": "e17EO-GRNlVJ"
      },
      "outputs": [],
      "source": [
        "!yolo task=detect mode=predict model=yolov8n.pt conf=0.25 source='cachorros00.jpeg' save=True"
      ]
    },
    {
      "cell_type": "code",
      "execution_count": null,
      "metadata": {
        "id": "OZzU0j6u_3oF"
      },
      "outputs": [],
      "source": [
        "def mostrar(img):\n",
        "  fig = plt.gcf()\n",
        "  fig.set_size_inches(16,10)\n",
        "  plt.axis('off')\n",
        "  plt.imshow(cv2.cvtColor(img, cv2.COLOR_BGR2RGB))\n",
        "  plt.show()"
      ]
    },
    {
      "cell_type": "code",
      "execution_count": null,
      "metadata": {
        "id": "N-bsaql9ALkI"
      },
      "outputs": [],
      "source": [
        "resultado = cv2.imread('/content/runs/detect/predict/cachorros00.jpeg')\n",
        "mostrar(resultado)"
      ]
    },
    {
      "cell_type": "code",
      "execution_count": null,
      "metadata": {
        "id": "O35aVMh6Ad8L"
      },
      "outputs": [],
      "source": [
        "!yolo task=detect mode=predict model=yolov8n.pt conf=0.25 source='https://ultralytics.com/images/zidane.jpg' save=True"
      ]
    },
    {
      "cell_type": "code",
      "execution_count": null,
      "metadata": {
        "id": "2BKs2mS4Av-H"
      },
      "outputs": [],
      "source": [
        "resultado = cv2.imread('/content/runs/detect/predict2/zidane.jpg')\n",
        "mostrar(resultado)"
      ]
    },
    {
      "cell_type": "markdown",
      "metadata": {
        "id": "XQ-kvJrq8uLh"
      },
      "source": [
        "### Alterando o limiar (threshold) "
      ]
    },
    {
      "cell_type": "code",
      "execution_count": null,
      "metadata": {
        "id": "Pyd19ObFBgCs"
      },
      "outputs": [],
      "source": [
        "!yolo task=detect mode=predict model=yolov8n.pt conf=0.4 source='/content/italia.jpg' save=true"
      ]
    },
    {
      "cell_type": "code",
      "execution_count": null,
      "metadata": {
        "id": "AevIJMghByxH"
      },
      "outputs": [],
      "source": [
        "resultado = cv2.imread('/content/runs/detect/predict3/italia.jpg')\n",
        "mostrar(resultado)"
      ]
    },
    {
      "cell_type": "code",
      "execution_count": null,
      "metadata": {
        "id": "RhjGWn9VCLTo"
      },
      "outputs": [],
      "source": [
        "!yolo task=detect mode=predict model=yolov8n.pt conf=0.6 source='/content/italia.jpg' save=true"
      ]
    },
    {
      "cell_type": "code",
      "execution_count": null,
      "metadata": {
        "id": "9lw0W-oACZGa"
      },
      "outputs": [],
      "source": [
        "resultado = cv2.imread('/content/runs/detect/predict4/italia.jpg')\n",
        "mostrar(resultado)"
      ]
    },
    {
      "cell_type": "markdown",
      "metadata": {
        "id": "O4WsTJDDEmdN"
      },
      "source": [
        "## Detecção em múltiplas imagens de uma vez"
      ]
    },
    {
      "cell_type": "code",
      "execution_count": null,
      "metadata": {
        "id": "m4TbUKjhD4Pt"
      },
      "outputs": [],
      "source": [
        "!yolo task=detect mode=predict model=yolov8n.pt conf=0.5 source='/content/imagens' save=true"
      ]
    },
    {
      "cell_type": "code",
      "execution_count": null,
      "metadata": {
        "id": "vdbb04O2ESur"
      },
      "outputs": [],
      "source": [
        "dir_resultados = '/content/runs/detect/predict5/'"
      ]
    },
    {
      "cell_type": "code",
      "execution_count": null,
      "metadata": {
        "id": "oTqLfgBWEcGY"
      },
      "outputs": [],
      "source": [
        "caminhos = [os.path.join(dir_resultados, f) for f in os.listdir(dir_resultados)]\n",
        "print(caminhos)"
      ]
    },
    {
      "cell_type": "code",
      "execution_count": null,
      "metadata": {
        "colab": {
          "background_save": true
        },
        "id": "SiWvIeCuErWL"
      },
      "outputs": [],
      "source": [
        "for caminho_imagem in caminhos:\n",
        "  #print(caminho_imagem)\n",
        "  imagem = cv2.imread(caminho_imagem)\n",
        "  mostrar(imagem)"
      ]
    },
    {
      "cell_type": "markdown",
      "metadata": {
        "id": "V-xsCmN_bf9c"
      },
      "source": [
        "## Realizando a detecção - método através do Python"
      ]
    },
    {
      "cell_type": "code",
      "execution_count": null,
      "metadata": {
        "id": "mHVSvwJsF64S"
      },
      "outputs": [],
      "source": [
        "from ultralytics import YOLO"
      ]
    },
    {
      "cell_type": "code",
      "execution_count": null,
      "metadata": {
        "id": "WZLN1OobF_vx"
      },
      "outputs": [],
      "source": [
        "model = YOLO('yolov8n.pt')"
      ]
    },
    {
      "cell_type": "code",
      "execution_count": null,
      "metadata": {
        "id": "PtZjGCa8GE81"
      },
      "outputs": [],
      "source": [
        "caminho_img = '/content/imagens/cachorros.jpg'\n",
        "img = cv2.imread(caminho_img)\n",
        "mostrar(img)"
      ]
    },
    {
      "cell_type": "markdown",
      "metadata": {
        "id": "tYABWsyI6cQo"
      },
      "source": [
        "Para a deteção usaremos o método model.predict().\n",
        "\n",
        "Ele aceita basicamente os mesmos parâmetros do método via CLI, que vimos nos exemplos mais acima.\n",
        "\n",
        "* source -- A função aceita a imagem nos seguintes formatos: \n",
        "  * imagem em ndarray (usando o cv2.imread) ou PIL\n",
        "  * diretório\n",
        "  * caminho\n",
        "  * URL\n",
        "  * video\n",
        "  * webcam (valor 0, que corresponde ao indice do dispositivo de câmera)\n",
        "\n",
        "* save -- se desejar salvar a imagem no diretório predict deixei save=True. aqui nós vamos fazer de outra maneira, então não precisa setar esse parâmetro\n",
        "\n",
        "* conf -- limiar de confiança \n",
        "\n",
        "* show -- Informe o parâmetro show=True para mostrar os valores das predições\n",
        "\n",
        "* save_txt -- se deseja salvar em um txt os resultados\n",
        "\n",
        "mais parâmetros https://docs.ultralytics.com/cfg/"
      ]
    },
    {
      "cell_type": "code",
      "execution_count": null,
      "metadata": {
        "id": "T9vylJtnGqK5"
      },
      "outputs": [],
      "source": [
        "resultados = model.predict(source=img)"
      ]
    },
    {
      "cell_type": "code",
      "execution_count": null,
      "metadata": {
        "id": "Piu8Jam2G1Di"
      },
      "outputs": [],
      "source": [
        "resultados"
      ]
    },
    {
      "cell_type": "code",
      "execution_count": null,
      "metadata": {
        "id": "r5BwrLzGG-MI"
      },
      "outputs": [],
      "source": [
        "for r in resultados:\n",
        "  print(r.boxes.boxes)"
      ]
    },
    {
      "cell_type": "code",
      "execution_count": null,
      "metadata": {
        "id": "XOs2y527HMMu"
      },
      "outputs": [],
      "source": [
        "for r in resultados:\n",
        "  print(r.boxes.conf)"
      ]
    },
    {
      "cell_type": "markdown",
      "metadata": {
        "id": "fLi5xzxm-Dmz"
      },
      "source": [
        "### Desenhando a caixa delimitadora sobre a imagem\n",
        "\n"
      ]
    },
    {
      "cell_type": "code",
      "execution_count": null,
      "metadata": {
        "id": "tTJPULREHzbK"
      },
      "outputs": [],
      "source": [
        "import funcoes_desenho"
      ]
    },
    {
      "cell_type": "code",
      "execution_count": null,
      "metadata": {
        "id": "JO_uIc7sH12n"
      },
      "outputs": [],
      "source": [
        "resultado = funcoes_desenho.desenha_caixas(img, resultados[0].boxes.boxes)\n",
        "mostrar(resultado)"
      ]
    },
    {
      "cell_type": "markdown",
      "metadata": {
        "id": "ZehBjgAwHV3_"
      },
      "source": [
        "## Teste com outros modelos \n"
      ]
    },
    {
      "cell_type": "code",
      "execution_count": null,
      "metadata": {
        "id": "cpT_JbxxJ90W"
      },
      "outputs": [],
      "source": [
        "model = YOLO('yolov8m.pt')\n",
        "caminho_img = '/content/imagens/italia.jpg'\n",
        "img = cv2.imread(caminho_img)\n",
        "resultados = model.predict(source = img, conf=0.6)\n",
        "resultado_img = funcoes_desenho.desenha_caixas(img, resultados[0].boxes.boxes)\n",
        "mostrar(resultado_img)"
      ]
    },
    {
      "cell_type": "markdown",
      "metadata": {
        "id": "v4tRI4LHyu8Z"
      },
      "source": [
        "> Usando o YOLOv8x (extra large)"
      ]
    },
    {
      "cell_type": "code",
      "execution_count": null,
      "metadata": {
        "id": "hNbuKKvBKn7N"
      },
      "outputs": [],
      "source": [
        "model = YOLO('yolov8x.pt')\n",
        "caminho_img = '/content/imagens/gato03.jpg'\n",
        "img = cv2.imread(caminho_img)\n",
        "resultados = model.predict(source = img, conf=0.6)\n",
        "resultado_img = funcoes_desenho.desenha_caixas(img, resultados[0].boxes.boxes)\n",
        "mostrar(resultado_img)"
      ]
    },
    {
      "cell_type": "markdown",
      "metadata": {
        "id": "MiOU_X_AG45J"
      },
      "source": [
        "## Validação do modelo"
      ]
    },
    {
      "cell_type": "code",
      "execution_count": null,
      "metadata": {
        "id": "EVDa_SfTLBh_"
      },
      "outputs": [],
      "source": [
        "import torch\n",
        "torch.hub.download_url_to_file('https://ultralytics.com/assets/coco2017val.zip', 'tmp.zip')"
      ]
    },
    {
      "cell_type": "code",
      "execution_count": null,
      "metadata": {
        "id": "7PcrBEKkLkVo"
      },
      "outputs": [],
      "source": [
        "!unzip -q tmp.zip -d ../datasets && rm tmp.zip"
      ]
    },
    {
      "cell_type": "code",
      "execution_count": null,
      "metadata": {
        "id": "_8dygsJaMVwP"
      },
      "outputs": [],
      "source": [
        "!yolo task=detect mode=val model=yolov8x.pt data=coco128.yaml"
      ]
    },
    {
      "cell_type": "markdown",
      "metadata": {
        "id": "C5_r1Oht0XDj"
      },
      "source": [
        "## Detecção em vídeos"
      ]
    },
    {
      "cell_type": "code",
      "execution_count": null,
      "metadata": {
        "id": "8KdC4cYWOHrn"
      },
      "outputs": [],
      "source": [
        "!yolo task=detect mode=predict model=yolov8m.pt conf=0.5 source='/content/video_pessoas01.mp4' save=true"
      ]
    },
    {
      "cell_type": "code",
      "execution_count": null,
      "metadata": {
        "id": "ZVnP3MUOOnap"
      },
      "outputs": [],
      "source": [
        "import os\n",
        "video_salvo = '/content/runs/detect/predict6/video_pessoas01.mp4'\n",
        "video_final = '/content/video_pessoas01_resultado.mp4'\n",
        "os.system(f\"ffmpeg -i {video_salvo} -vcodec libx264 {video_final}\")"
      ]
    },
    {
      "cell_type": "code",
      "execution_count": null,
      "metadata": {
        "id": "r7OJhnhiPHWq"
      },
      "outputs": [],
      "source": [
        "def exibir_video(video_caminho):\n",
        "  from IPython.display import HTML\n",
        "  from base64 import b64encode\n",
        "  mp4 = open(video_caminho, 'rb').read()\n",
        "  data_url = \"data:video/mp4;base64,\" + b64encode(mp4).decode()\n",
        "  return HTML(\"\"\"\n",
        "  <video width=500 controls>\n",
        "    <source src=\"%s\" type=\"video/mp4\"\n",
        "  </video>\n",
        "  \"\"\" % data_url)"
      ]
    },
    {
      "cell_type": "code",
      "execution_count": null,
      "metadata": {
        "colab": {
          "background_save": true
        },
        "id": "43I24OJEPzcY"
      },
      "outputs": [],
      "source": [
        "exibir_video(video_final)"
      ]
    },
    {
      "cell_type": "markdown",
      "metadata": {
        "id": "ccSYp85_Ih-S"
      },
      "source": [
        "## Segmentação de imagens"
      ]
    },
    {
      "cell_type": "markdown",
      "metadata": {
        "id": "vQpmG1PGMvnm"
      },
      "source": [
        "### Via CLI"
      ]
    },
    {
      "cell_type": "code",
      "execution_count": null,
      "metadata": {
        "id": "GvjUSomRSEz8"
      },
      "outputs": [],
      "source": [
        "!yolo task=segment mode=predict model=yolov8m-seg.pt conf=0.5 source='/content/imagens/cachorros.jpg' save=true"
      ]
    },
    {
      "cell_type": "code",
      "execution_count": null,
      "metadata": {
        "id": "dywb6crdShwZ"
      },
      "outputs": [],
      "source": [
        "resultado = cv2.imread('/content/runs/segment/predict/cachorros.jpg')\n",
        "mostrar(resultado)"
      ]
    },
    {
      "cell_type": "markdown",
      "metadata": {
        "id": "JRNthrLwM5zt"
      },
      "source": [
        "### Via Python"
      ]
    },
    {
      "cell_type": "code",
      "execution_count": null,
      "metadata": {
        "id": "9ZbpJS91SuAg"
      },
      "outputs": [],
      "source": [
        "model_seg = YOLO('yolov8m-seg.pt')\n",
        "caminho_img = '/content/imagens/gato02.jpg'\n",
        "img = cv2.imread(caminho_img)\n",
        "resultados = model_seg.predict(source=img, conf=0.6)\n",
        "resultado_img = funcoes_desenho.desenha_caixas(img, resultados[0].boxes.boxes)\n",
        "mostrar(resultado_img)"
      ]
    },
    {
      "cell_type": "code",
      "execution_count": null,
      "metadata": {
        "id": "T9Ylb9hbTRqt"
      },
      "outputs": [],
      "source": [
        "model_seg = YOLO('yolov8x-seg.pt')\n",
        "caminho_img = '/content/imagens/person.jpg'\n",
        "img = cv2.imread(caminho_img)\n",
        "resultados = model_seg.predict(source=img, conf=0.6)\n",
        "resultado_img = funcoes_desenho.desenha_caixas(img, resultados[0].boxes.boxes)\n",
        "mostrar(resultado_img)"
      ]
    },
    {
      "cell_type": "markdown",
      "metadata": {
        "id": "JkmmiZKY9F0D"
      },
      "source": [
        "### Segmentação em vídeos"
      ]
    },
    {
      "cell_type": "code",
      "execution_count": null,
      "metadata": {
        "id": "noEw-D5uTieg"
      },
      "outputs": [],
      "source": [
        "!wget https://github.com/gabevr/yolo/raw/master/videos/video_rua01.mp4"
      ]
    },
    {
      "cell_type": "code",
      "execution_count": null,
      "metadata": {
        "id": "6r67c2ifTrSE"
      },
      "outputs": [],
      "source": [
        "!yolo task=segment mode=predict model=yolov8m-seg.pt conf=0.5 source='/content/video_rua01.mp4' save=true"
      ]
    },
    {
      "cell_type": "code",
      "execution_count": null,
      "metadata": {
        "id": "Kq_gSMMAT-Sh"
      },
      "outputs": [],
      "source": [
        "video_salvo = \"/content/runs/segment/predict2/video_rua01.mp4\"\n",
        "video_final = \"/content/segmentacao_rua01.mp4\" \n",
        "\n",
        "os.system(f\"ffmpeg -i {video_salvo} -vcodec libx264 {video_final}\")"
      ]
    },
    {
      "cell_type": "code",
      "execution_count": null,
      "metadata": {
        "colab": {
          "background_save": true
        },
        "id": "aIivdsRaURpZ"
      },
      "outputs": [],
      "source": [
        "exibir_video(video_final)"
      ]
    }
  ],
  "metadata": {
    "accelerator": "GPU",
    "colab": {
      "provenance": []
    },
    "gpuClass": "standard",
    "kernelspec": {
      "display_name": "Python 3",
      "name": "python3"
    },
    "language_info": {
      "name": "python"
    }
  },
  "nbformat": 4,
  "nbformat_minor": 0
}