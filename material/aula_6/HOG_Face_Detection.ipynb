{
  "nbformat": 4,
  "nbformat_minor": 0,
  "metadata": {
    "colab": {
      "provenance": []
    },
    "kernelspec": {
      "name": "python3",
      "display_name": "Python 3"
    },
    "language_info": {
      "name": "python"
    }
  },
  "cells": [
    {
      "cell_type": "markdown",
      "source": [
        "#### Histogram Of Oriented Gradients (HOG)\n",
        "https://learnopencv.com/histogram-of-oriented-gradients/"
      ],
      "metadata": {
        "id": "usSRO6osbCmu"
      }
    },
    {
      "cell_type": "code",
      "execution_count": null,
      "metadata": {
        "id": "jVXBNC7xmhEa"
      },
      "outputs": [],
      "source": [
        "# Importando as bibliotecas OpenCV, DLib e im_show\n",
        "import cv2\n",
        "import dlib\n",
        "from google.colab.patches import cv2_imshow"
      ]
    },
    {
      "cell_type": "code",
      "source": [
        "# Insira aqui o seu arquivo\n",
        "imagem = cv2.imread('')"
      ],
      "metadata": {
        "id": "MM0R09tMnhbf"
      },
      "execution_count": null,
      "outputs": []
    },
    {
      "cell_type": "code",
      "source": [
        "detector_face_hog = dlib.get_frontal_face_detector()"
      ],
      "metadata": {
        "id": "pDD8yOC5m1PM"
      },
      "execution_count": null,
      "outputs": []
    },
    {
      "cell_type": "code",
      "source": [
        "deteccoes = detector_face_hog(imagem, 2) # O segundo parâmetro é semelhante ao Scale Factor do Opencv (Haarcascades) "
      ],
      "metadata": {
        "id": "nolh8QJxnZAx"
      },
      "execution_count": null,
      "outputs": []
    },
    {
      "cell_type": "code",
      "source": [
        "deteccoes"
      ],
      "metadata": {
        "id": "38cpbvl5qs7o"
      },
      "execution_count": null,
      "outputs": []
    },
    {
      "cell_type": "code",
      "source": [
        "len(deteccoes)"
      ],
      "metadata": {
        "id": "NgXc33G-ZjR6"
      },
      "execution_count": null,
      "outputs": []
    },
    {
      "cell_type": "code",
      "source": [
        "for face in deteccoes:\n",
        "  # print(face.left())\n",
        "  # print(face.top())\n",
        "  # print(face.right())\n",
        "  # print(face.bottom())\n",
        "  l, t, r, b = face.left(), face.top(), face.right(), face.bottom()\n",
        "  cv2.rectangle(imagem, (l, t), (r, b), (0, 255, 0), 1)\n",
        "cv2_imshow(imagem)"
      ],
      "metadata": {
        "id": "0CK0toggrGKg"
      },
      "execution_count": null,
      "outputs": []
    },
    {
      "cell_type": "code",
      "source": [
        "imagem = cv2.imread('')\n",
        "detector_face_hog = dlib.get_frontal_face_detector()\n",
        "deteccoes = detector_face_hog(imagem, 2)\n",
        "for face in deteccoes:\n",
        "  l, t, r, b = face.left(), face.top(), face.right(), face.bottom()\n",
        "  cv2.rectangle(imagem, (l, t), (r, b), (0, 255, 0), 1)\n",
        "cv2_imshow(imagem)"
      ],
      "metadata": {
        "id": "iftxMwH1rQ14"
      },
      "execution_count": null,
      "outputs": []
    },
    {
      "cell_type": "code",
      "source": [],
      "metadata": {
        "id": "kzRPa1agaIAi"
      },
      "execution_count": null,
      "outputs": []
    }
  ]
}