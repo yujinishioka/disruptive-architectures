{
  "nbformat": 4,
  "nbformat_minor": 0,
  "metadata": {
    "colab": {
      "provenance": []
    },
    "kernelspec": {
      "name": "python3",
      "display_name": "Python 3"
    },
    "language_info": {
      "name": "python"
    }
  },
  "cells": [
    {
      "cell_type": "markdown",
      "source": [
        "Segmentação de Imagens"
      ],
      "metadata": {
        "id": "XqQU29cH-Gnt"
      }
    },
    {
      "cell_type": "code",
      "execution_count": null,
      "metadata": {
        "id": "_8Hzxs7x9-_m"
      },
      "outputs": [],
      "source": [
        "# Instalando a biblioteca do YOLOv8\n",
        "!pip install ultralytics"
      ]
    },
    {
      "cell_type": "code",
      "source": [
        "# Importando o pacote ultralytics\n",
        "import ultralytics"
      ],
      "metadata": {
        "id": "MI-9X-49-KV3"
      },
      "execution_count": null,
      "outputs": []
    },
    {
      "cell_type": "code",
      "source": [
        "# Importando as demais bibliotecas\n",
        "import cv2\n",
        "import matplotlib.pyplot as plt\n",
        "import os\n",
        "from PIL import Image\n",
        "from google.colab.patches import cv2_imshow"
      ],
      "metadata": {
        "id": "aQCM8iCX-zan"
      },
      "execution_count": null,
      "outputs": []
    },
    {
      "cell_type": "code",
      "source": [
        "!yolo task=segment mode=predict model=yolov8m-seg.pt conf=0.5 source='/content/cachorros.jpg' save=True"
      ],
      "metadata": {
        "id": "CqMM2NMf-R5y"
      },
      "execution_count": null,
      "outputs": []
    },
    {
      "cell_type": "code",
      "source": [
        "resultado = cv2.imread('/content/runs/segment/predict2/cachorros.jpg')\n",
        "cv2_imshow(resultado)"
      ],
      "metadata": {
        "id": "fdm0oFtY-xjE"
      },
      "execution_count": null,
      "outputs": []
    }
  ]
}