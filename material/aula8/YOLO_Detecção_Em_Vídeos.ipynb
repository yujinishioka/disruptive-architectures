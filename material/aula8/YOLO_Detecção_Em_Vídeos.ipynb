{
  "cells": [
    {
      "cell_type": "markdown",
      "metadata": {
        "id": "GO_HKpr76WsA"
      },
      "source": [
        "Detecção em vídeos (CLI)"
      ]
    },
    {
      "cell_type": "code",
      "execution_count": null,
      "metadata": {
        "id": "w_qDYsGB6kCW"
      },
      "outputs": [],
      "source": [
        "# Instalando a biblioteca do YOLOv8\n",
        "!pip install ultralytics"
      ]
    },
    {
      "cell_type": "code",
      "execution_count": null,
      "metadata": {
        "id": "LmGhDKk86nP_"
      },
      "outputs": [],
      "source": [
        "# Importando o pacote ultralytics\n",
        "import ultralytics"
      ]
    },
    {
      "cell_type": "code",
      "execution_count": null,
      "metadata": {
        "id": "B3aKZY4k6pkx"
      },
      "outputs": [],
      "source": [
        "# Importando o pacote Pytorch\n",
        "import torch"
      ]
    },
    {
      "cell_type": "code",
      "execution_count": null,
      "metadata": {
        "id": "dhOkYMpC6smz"
      },
      "outputs": [],
      "source": [
        "# Importando as demais bibliotecas\n",
        "import cv2\n",
        "import matplotlib.pyplot as plt\n",
        "import os\n",
        "from PIL import Image\n",
        "from google.colab.patches import cv2_imshow"
      ]
    },
    {
      "cell_type": "code",
      "execution_count": null,
      "metadata": {
        "id": "qel4fk0R6IB6"
      },
      "outputs": [],
      "source": [
        "!yolo task=detect mode=predict model=yolov8m.pt conf=0.5 source='/content/video_pessoas01.mp4' save=true"
      ]
    },
    {
      "cell_type": "code",
      "execution_count": null,
      "metadata": {
        "id": "-Je-srbk6eki"
      },
      "outputs": [],
      "source": [
        "import os\n",
        "video_salvo = '/content/runs/detect/predict/video_pessoas01.mp4'\n",
        "video_final = '/content/video_pessoas01_resultado.mp4'\n",
        "os.system(f\"ffmpeg -i {video_salvo} -vcodec libx264 {video_final}\")"
      ]
    },
    {
      "cell_type": "code",
      "execution_count": null,
      "metadata": {
        "id": "ADtuLEsw8Eak"
      },
      "outputs": [],
      "source": [
        "def exibir_video(video_caminho):\n",
        "  from IPython.display import HTML\n",
        "  from base64 import b64encode\n",
        "  mp4 = open(video_caminho, 'rb').read()\n",
        "  data_url = \"data:video/mp4;base64,\" + b64encode(mp4).decode()\n",
        "  return HTML(\"\"\"\n",
        "  <video width=500 controls>\n",
        "    <source src=\"%s\" type=\"video/mp4\"\n",
        "  </video>\n",
        "  \"\"\" % data_url)"
      ]
    },
    {
      "cell_type": "code",
      "execution_count": null,
      "metadata": {
        "colab": {
          "background_save": true
        },
        "id": "-M0Ll9aC8UCC"
      },
      "outputs": [],
      "source": [
        "exibir_video(video_final)"
      ]
    },
    {
      "cell_type": "code",
      "execution_count": null,
      "metadata": {
        "id": "4fge4dpy8Xmq"
      },
      "outputs": [],
      "source": []
    }
  ],
  "metadata": {
    "accelerator": "GPU",
    "colab": {
      "provenance": []
    },
    "gpuClass": "standard",
    "kernelspec": {
      "display_name": "Python 3",
      "name": "python3"
    },
    "language_info": {
      "name": "python"
    }
  },
  "nbformat": 4,
  "nbformat_minor": 0
}