{
  "nbformat": 4,
  "nbformat_minor": 0,
  "metadata": {
    "colab": {
      "provenance": []
    },
    "kernelspec": {
      "name": "python3",
      "display_name": "Python 3"
    },
    "language_info": {
      "name": "python"
    },
    "gpuClass": "standard"
  },
  "cells": [
    {
      "cell_type": "markdown",
      "source": [
        "Instalação dos pacotes e bibliotecas do YOLOv8"
      ],
      "metadata": {
        "id": "X12vIYNcISMT"
      }
    },
    {
      "cell_type": "code",
      "execution_count": null,
      "metadata": {
        "id": "h6CZKmgPHVCv"
      },
      "outputs": [],
      "source": [
        "# Instalando a biblioteca do YOLOv8\n",
        "!pip install ultralytics"
      ]
    },
    {
      "cell_type": "code",
      "source": [
        "# Importando o pacote ultralytics\n",
        "import ultralytics"
      ],
      "metadata": {
        "id": "WoQUtqi9HtrH"
      },
      "execution_count": null,
      "outputs": []
    },
    {
      "cell_type": "code",
      "source": [
        "# Importando o pacote Pytorch\n",
        "import torch"
      ],
      "metadata": {
        "id": "VeoD_X-WH2Q-"
      },
      "execution_count": null,
      "outputs": []
    },
    {
      "cell_type": "code",
      "source": [
        "# Importando as demais bibliotecas\n",
        "import cv2\n",
        "import matplotlib.pyplot as plt\n",
        "import os\n",
        "from PIL import Image\n",
        "from google.colab.patches import cv2_imshow"
      ],
      "metadata": {
        "id": "YoXsfVUzIM63"
      },
      "execution_count": null,
      "outputs": []
    },
    {
      "cell_type": "markdown",
      "source": [
        "## Realizando a detecção\n",
        "\n",
        "A forma mais rápida de executar a deteçcão é através da CLI, conforme pode ver abaixo a sintaxe.\n",
        "\n",
        "Os parâmetros:\n",
        "* **task** - tarefa, podendo ser detecção, segmentação ou classificação\n",
        "* **model** - o modelo que queremos usar. São disponibilizados 5 modelos: YOLOv8n (nano), YOLOv8s (small), YOLOv8m (medium), YOLOv8l (large), YOLOv8x (extra large). Nano é o mais rápido e o menor (menos pesado para rodar), enquanto que o Extra Large (YOLOv8x) é o mais preciso porém mais pesado para rodar, portanto será mais lento. \n",
        "  Para o valor desse parâmetro, basta informar o nome e ao lado .pt pois é a extensão do modelo treinado em pytorch. \n",
        "\n",
        "* **mode** - basicamente é o que queremos com o comando. queremos fazer a detecção/inferência/predição, portanto deixe =predict. Valores aceitos: [train, val, predict, export]\n",
        "\n",
        "* **conf** - o limiar (threshold) que usaremos para filtrar detecções \"fracas\". Se a confiança estiver abaixo desse valor, não será considerada. Por padrão podemos configurar com um limiar bem baixo (ex: 0.25) e depois aumentar, caso verifique que detectou incorretamente algum objeto.  \n",
        "* **source** - a imagem ou vídeo que queremos fazer a detecção."
      ],
      "metadata": {
        "id": "qq2Wg3iVRc28"
      }
    },
    {
      "cell_type": "code",
      "source": [
        "!yolo task=detect mode=predict model=yolov8n.pt conf=0.25 source='/content/cachorros.jpg' save=True"
      ],
      "metadata": {
        "id": "IeeH6qsKI0bP"
      },
      "execution_count": null,
      "outputs": []
    },
    {
      "cell_type": "code",
      "source": [
        "'''\n",
        "def mostrar(img):\n",
        "  fig = plt.gcf()\n",
        "  fig.set_size_inches(16,10)\n",
        "  plt.axis('off')\n",
        "  plt.imshow(cv2.cvtColor(img, cv2.COLOR_BGR2RGB))\n",
        "  plt.show()\n",
        "'''"
      ],
      "metadata": {
        "id": "J-rzvcF5ibLl"
      },
      "execution_count": null,
      "outputs": []
    },
    {
      "cell_type": "code",
      "source": [
        "#resultado = cv2.imread('/content/runs/detect/predict/cachorros.jpg')\n",
        "#mostrar(resultado)"
      ],
      "metadata": {
        "id": "MNRspGRCia7Q"
      },
      "execution_count": null,
      "outputs": []
    },
    {
      "cell_type": "markdown",
      "source": [
        "**Importante:**\n",
        "- Observe na saída da célula acima que o resultado da detecção será salvo na pasta 'runs/detect/predict/' \n",
        "- Atenção ao número do 'predict' gerado para passar corretamente o nome na célula abaixo."
      ],
      "metadata": {
        "id": "ySB9UY3uSVUp"
      }
    },
    {
      "cell_type": "code",
      "source": [
        "resultado = cv2.imread('/content/runs/detect/predict/cachorros.jpg')\n",
        "cv2_imshow(resultado)"
      ],
      "metadata": {
        "id": "ImqRSICRNy6F"
      },
      "execution_count": null,
      "outputs": []
    },
    {
      "cell_type": "code",
      "source": [
        "# Detecção a partir de arquivo externo:\n",
        "!yolo task=detect mode=predict model=yolov8n.pt conf=0.25 source='https://ultralytics.com/images/zidane.jpg' save=True"
      ],
      "metadata": {
        "id": "AJbpBhxNLofM"
      },
      "execution_count": null,
      "outputs": []
    },
    {
      "cell_type": "code",
      "source": [
        "resultado = cv2.imread('/content/runs/detect/predict2/zidane.jpg')\n",
        "cv2_imshow(resultado)"
      ],
      "metadata": {
        "id": "pLJ0Lve3TcnU"
      },
      "execution_count": null,
      "outputs": []
    },
    {
      "cell_type": "code",
      "source": [
        "!yolo task=detect mode=predict model=yolov8n.pt conf=0.4 source='italia.jpg' save=True"
      ],
      "metadata": {
        "id": "m0indQzWV7h6"
      },
      "execution_count": null,
      "outputs": []
    },
    {
      "cell_type": "code",
      "source": [
        "resultado = cv2.imread('/content/runs/detect/predict3/italia.jpg')\n",
        "cv2_imshow(resultado)"
      ],
      "metadata": {
        "id": "fV7VGrfRmvFU"
      },
      "execution_count": null,
      "outputs": []
    },
    {
      "cell_type": "code",
      "source": [
        "!yolo task=detect mode=predict model=yolov8n.pt conf=0.57 source='italia.jpg' save=True"
      ],
      "metadata": {
        "id": "THT0Ih62xlsH"
      },
      "execution_count": null,
      "outputs": []
    },
    {
      "cell_type": "code",
      "source": [
        "resultado = cv2.imread('/content/runs/detect/predict4/italia.jpg')\n",
        "cv2_imshow(resultado)"
      ],
      "metadata": {
        "id": "_xR7BWv2xuJT"
      },
      "execution_count": null,
      "outputs": []
    },
    {
      "cell_type": "markdown",
      "source": [
        "# Nova seção"
      ],
      "metadata": {
        "id": "xJjLM-NDx6WQ"
      }
    },
    {
      "cell_type": "markdown",
      "source": [
        "Detecção em múltiplas imagens de uma vez"
      ],
      "metadata": {
        "id": "HcHdm3W1mfVc"
      }
    },
    {
      "cell_type": "code",
      "source": [
        "!yolo task=detect mode=predict model=yolov8n.pt conf=0.5 source='/content/imagens' save=True"
      ],
      "metadata": {
        "id": "GLuATad1YMNx"
      },
      "execution_count": null,
      "outputs": []
    },
    {
      "cell_type": "code",
      "source": [
        "dir_resultados = '/content/runs/detect/predict5'"
      ],
      "metadata": {
        "id": "J2NTDyvHZR03"
      },
      "execution_count": null,
      "outputs": []
    },
    {
      "cell_type": "code",
      "source": [
        "caminhos = [os.path.join(dir_resultados, f) for f in os.listdir(dir_resultados)]\n",
        "print(caminhos)"
      ],
      "metadata": {
        "id": "3AjNz3k7Zizg"
      },
      "execution_count": null,
      "outputs": []
    },
    {
      "cell_type": "code",
      "source": [
        "for caminho_imagem in caminhos:\n",
        "  resultado = cv2.imread(caminho_imagem)\n",
        "  cv2_imshow(resultado)"
      ],
      "metadata": {
        "id": "u5rpWg1-Z5hx"
      },
      "execution_count": null,
      "outputs": []
    }
  ]
}