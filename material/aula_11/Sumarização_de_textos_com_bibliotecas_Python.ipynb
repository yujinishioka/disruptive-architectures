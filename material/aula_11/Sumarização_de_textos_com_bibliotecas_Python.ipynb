{
  "nbformat": 4,
  "nbformat_minor": 0,
  "metadata": {
    "colab": {
      "provenance": []
    },
    "kernelspec": {
      "name": "python3",
      "display_name": "Python 3"
    }
  },
  "cells": [
    {
      "cell_type": "markdown",
      "metadata": {
        "id": "e3oajPnc63dX"
      },
      "source": [
        "# Sumarização de textos com bibliotecas"
      ]
    },
    {
      "cell_type": "markdown",
      "metadata": {
        "id": "3vrmS88U7Sc4"
      },
      "source": [
        "## Textos de exemplos"
      ]
    },
    {
      "cell_type": "code",
      "metadata": {
        "id": "weiRapuF76s1"
      },
      "source": [
        "# Documentação: https://www.nltk.org/\n",
        "import nltk\n",
        "nltk.download('punkt')"
      ],
      "execution_count": null,
      "outputs": []
    },
    {
      "cell_type": "code",
      "metadata": {
        "id": "tW8PS7ey7VwO"
      },
      "source": [
        "# https://pypi.org/project/goose3/\n",
        "!pip install goose3"
      ],
      "execution_count": null,
      "outputs": []
    },
    {
      "cell_type": "code",
      "metadata": {
        "id": "M3NlgusO7ZA8"
      },
      "source": [
        "from goose3 import Goose\n",
        "g = Goose()\n",
        "url = 'https://cienciahoje.org.br/artigo/a-era-da-inteligencia-artificial/'\n",
        "artigo_portugues = g.extract(url)"
      ],
      "execution_count": null,
      "outputs": []
    },
    {
      "cell_type": "code",
      "metadata": {
        "id": "OSdQTvE57iis"
      },
      "source": [
        "url = 'https://en.wikipedia.org/wiki/Artificial_intelligence'\n",
        "artigo_ingles = g.extract(url)"
      ],
      "execution_count": null,
      "outputs": []
    },
    {
      "cell_type": "code",
      "metadata": {
        "id": "mMkWRcIhkfA4"
      },
      "source": [
        "artigo_portugues.cleaned_text"
      ],
      "execution_count": null,
      "outputs": []
    },
    {
      "cell_type": "code",
      "metadata": {
        "id": "FkiGHfTy7lIP"
      },
      "source": [
        "artigo_ingles.cleaned_text"
      ],
      "execution_count": null,
      "outputs": []
    },
    {
      "cell_type": "markdown",
      "metadata": {
        "id": "u1TWH_Jx7Kc7"
      },
      "source": [
        "## Biblioteca sumy\n",
        "\n",
        "- https://pypi.org/project/sumy/"
      ]
    },
    {
      "cell_type": "code",
      "metadata": {
        "id": "u2vF_C0E9x9p"
      },
      "source": [
        "!pip install sumy"
      ],
      "execution_count": null,
      "outputs": []
    },
    {
      "cell_type": "code",
      "metadata": {
        "id": "iSslir2094WW"
      },
      "source": [
        "from sumy.parsers.plaintext import PlaintextParser\n",
        "from sumy.nlp.tokenizers import Tokenizer\n",
        "from sumy.summarizers.luhn import LuhnSummarizer"
      ],
      "execution_count": null,
      "outputs": []
    },
    {
      "cell_type": "code",
      "metadata": {
        "id": "iEJK2BAh-LbR"
      },
      "source": [
        "parser = PlaintextParser.from_string(artigo_portugues.cleaned_text, Tokenizer('portuguese'))"
      ],
      "execution_count": null,
      "outputs": []
    },
    {
      "cell_type": "code",
      "metadata": {
        "id": "j-X4xzhL-XZg"
      },
      "source": [
        "sumarizador = LuhnSummarizer()"
      ],
      "execution_count": null,
      "outputs": []
    },
    {
      "cell_type": "code",
      "metadata": {
        "id": "9fhLDFRv-a3m"
      },
      "source": [
        "resumo = sumarizador(parser.document, 3)"
      ],
      "execution_count": null,
      "outputs": []
    },
    {
      "cell_type": "code",
      "metadata": {
        "id": "OSKcIey9-j1m"
      },
      "source": [
        "resumo"
      ],
      "execution_count": null,
      "outputs": []
    },
    {
      "cell_type": "code",
      "metadata": {
        "id": "u-T0zB65-nf8"
      },
      "source": [
        "for sentenca in resumo:\n",
        "  print(sentenca)"
      ],
      "execution_count": null,
      "outputs": []
    },
    {
      "cell_type": "markdown",
      "metadata": {
        "id": "UGnV_6KO8IlO"
      },
      "source": [
        "## Biblioteca pysummarization\n",
        "\n",
        "- https://pypi.org/project/pysummarization/\n",
        "- Redes neurais recorrentes: https://www.youtube.com/watch?v=ZvBJxh5O3H0"
      ]
    },
    {
      "cell_type": "code",
      "metadata": {
        "id": "s-j5RHSX_rxx"
      },
      "source": [
        "# Instalação da biblioteca pysummarization\n",
        "!pip install pysummarization"
      ],
      "execution_count": null,
      "outputs": []
    },
    {
      "cell_type": "code",
      "metadata": {
        "id": "9OkijLEV_wXl"
      },
      "source": [
        "# Importando dos pacotes e classes\n",
        "from pysummarization.nlpbase.auto_abstractor import AutoAbstractor\n",
        "from pysummarization.tokenizabledoc.simple_tokenizer import SimpleTokenizer\n",
        "from pysummarization.abstractabledoc.top_n_rank_abstractor import TopNRankAbstractor"
      ],
      "execution_count": null,
      "outputs": []
    },
    {
      "cell_type": "code",
      "metadata": {
        "id": "UqSbcR-1AFtQ"
      },
      "source": [
        "# Criação dos objetos para geração dos resumos.\n",
        "auto_abstractor = AutoAbstractor()\n",
        "auto_abstractor.tokenizable_doc = SimpleTokenizer()\n",
        "\n",
        "# Lista dos delimitadores (separadores de trechos do texto).\n",
        "auto_abstractor.delimiter_list = [\".\", \"\\n\"]\n",
        "abstractable_doc = TopNRankAbstractor()\n",
        "\n",
        "# Criação da variação do resumo do texto.\n",
        "resumo = auto_abstractor.summarize(artigo_ingles.cleaned_text, abstractable_doc)"
      ],
      "execution_count": null,
      "outputs": []
    },
    {
      "cell_type": "code",
      "metadata": {
        "id": "GenUpGTAAxve"
      },
      "source": [
        "resumo"
      ],
      "execution_count": null,
      "outputs": []
    },
    {
      "cell_type": "code",
      "metadata": {
        "id": "AUSJB176A-Iw"
      },
      "source": [
        "for sentenca in resumo['summarize_result']:\n",
        "  print(sentenca)"
      ],
      "execution_count": null,
      "outputs": []
    },
    {
      "cell_type": "markdown",
      "metadata": {
        "id": "bhTq9pdG8f_r"
      },
      "source": [
        "## Biblioteca - BERT\n",
        "\n",
        "- https://pypi.org/project/bert-extractive-summarizer/\n",
        "- Arquitetura BERT: https://www.youtube.com/watch?v=ERA1bjBKqtE"
      ]
    },
    {
      "cell_type": "code",
      "metadata": {
        "id": "EybSLQYBCTzc"
      },
      "source": [
        "!pip install bert-extractive-summarizer"
      ],
      "execution_count": null,
      "outputs": []
    },
    {
      "cell_type": "code",
      "metadata": {
        "id": "VeQTODLaCbDB"
      },
      "source": [
        "from summarizer import Summarizer"
      ],
      "execution_count": null,
      "outputs": []
    },
    {
      "cell_type": "code",
      "metadata": {
        "id": "vVq86syiCeyR"
      },
      "source": [
        "sumarizador = Summarizer()\n",
        "resumo = sumarizador(artigo_ingles.cleaned_text)"
      ],
      "execution_count": null,
      "outputs": []
    },
    {
      "cell_type": "code",
      "metadata": {
        "id": "jgu6c7baEcxy"
      },
      "source": [
        "resumo"
      ],
      "execution_count": null,
      "outputs": []
    },
    {
      "cell_type": "code",
      "metadata": {
        "id": "HVFmajCFEgmF"
      },
      "source": [
        "len(artigo_ingles.cleaned_text), len(resumo)"
      ],
      "execution_count": null,
      "outputs": []
    },
    {
      "cell_type": "markdown",
      "metadata": {
        "id": "SPI3SJuj8siV"
      },
      "source": [
        "## Solução para o exercício - biblioteca sumy"
      ]
    },
    {
      "cell_type": "code",
      "metadata": {
        "id": "4gRI0nf89ani"
      },
      "source": [
        "sentencas_originais = [sentenca for sentenca in nltk.sent_tokenize(artigo_portugues.cleaned_text)]\n",
        "sentencas_originais"
      ],
      "execution_count": null,
      "outputs": []
    },
    {
      "cell_type": "code",
      "metadata": {
        "id": "5B1q2RvE8wZ5"
      },
      "source": [
        "from sumy.parsers.plaintext import PlaintextParser\n",
        "from sumy.nlp.tokenizers import Tokenizer\n",
        "from sumy.summarizers.lsa import LsaSummarizer\n",
        "from sumy.summarizers.lex_rank import LexRankSummarizer\n",
        "from sumy.summarizers.text_rank import TextRankSummarizer\n",
        "from sumy.summarizers.sum_basic import SumBasicSummarizer\n",
        "from sumy.summarizers.kl import KLSummarizer\n",
        "from sumy.summarizers.reduction import ReductionSummarizer"
      ],
      "execution_count": null,
      "outputs": []
    },
    {
      "cell_type": "markdown",
      "metadata": {
        "id": "qcmw6jXFAGEF"
      },
      "source": [
        "### LsaSummarizer"
      ]
    },
    {
      "cell_type": "code",
      "metadata": {
        "id": "fg4DsKRQ96C4"
      },
      "source": [
        "parser = PlaintextParser.from_string(artigo_portugues.cleaned_text,Tokenizer('portuguese'))\n",
        "sumarizador = LsaSummarizer()\n",
        "resumo = sumarizador(parser.document, 5)\n",
        "melhores_sentencas = []\n",
        "for sentenca in resumo:\n",
        "  print(sentenca)"
      ],
      "execution_count": null,
      "outputs": []
    },
    {
      "cell_type": "markdown",
      "metadata": {
        "id": "Y9PEiR6rAyAU"
      },
      "source": [
        "### LexRankSummarizer"
      ]
    },
    {
      "cell_type": "code",
      "metadata": {
        "id": "4ypZUR5lAz2_"
      },
      "source": [
        "parser = PlaintextParser.from_string(artigo_portugues.cleaned_text,Tokenizer('portuguese'))\n",
        "sumarizador = LexRankSummarizer()\n",
        "resumo = sumarizador(parser.document, 5)\n",
        "melhores_sentencas = []\n",
        "for sentenca in resumo:\n",
        "  print(sentenca)"
      ],
      "execution_count": null,
      "outputs": []
    },
    {
      "cell_type": "markdown",
      "metadata": {
        "id": "XMJzltUOA4m0"
      },
      "source": [
        "### TextRankSummarizer"
      ]
    },
    {
      "cell_type": "code",
      "metadata": {
        "id": "rudhZjj2A6Tk"
      },
      "source": [
        "parser = PlaintextParser.from_string(artigo_portugues.cleaned_text,Tokenizer('portuguese'))\n",
        "sumarizador = TextRankSummarizer()\n",
        "resumo = sumarizador(parser.document, 3)\n",
        "melhores_sentencas = []\n",
        "for sentenca in resumo:\n",
        "  print(sentenca)"
      ],
      "execution_count": null,
      "outputs": []
    },
    {
      "cell_type": "markdown",
      "metadata": {
        "id": "Ig58EJDOA_7R"
      },
      "source": [
        "### SumBasicSummarizer"
      ]
    },
    {
      "cell_type": "code",
      "metadata": {
        "id": "DYRpWuobBCAO"
      },
      "source": [
        "parser = PlaintextParser.from_string(artigo_portugues.cleaned_text,Tokenizer('portuguese'))\n",
        "sumarizador = SumBasicSummarizer()\n",
        "resumo = sumarizador(parser.document, 5)\n",
        "melhores_sentencas = []\n",
        "for sentenca in resumo:\n",
        "  print(sentenca)"
      ],
      "execution_count": null,
      "outputs": []
    },
    {
      "cell_type": "markdown",
      "metadata": {
        "id": "T1qBXyhBBGeE"
      },
      "source": [
        "### KLSummarizer"
      ]
    },
    {
      "cell_type": "code",
      "metadata": {
        "id": "C1hwMiIvBH6Y"
      },
      "source": [
        "parser = PlaintextParser.from_string(artigo_portugues.cleaned_text,Tokenizer('portuguese'))\n",
        "sumarizador = KLSummarizer()\n",
        "resumo = sumarizador(parser.document, 3)\n",
        "melhores_sentencas = []\n",
        "for sentenca in resumo:\n",
        "  print(sentenca)"
      ],
      "execution_count": null,
      "outputs": []
    },
    {
      "cell_type": "markdown",
      "metadata": {
        "id": "dnVkeXmwBL6v"
      },
      "source": [
        "### ReductionSummarizer"
      ]
    },
    {
      "cell_type": "code",
      "metadata": {
        "id": "0sNXO76YBN_p"
      },
      "source": [
        "parser = PlaintextParser.from_string(artigo_portugues.cleaned_text,Tokenizer('portuguese'))\n",
        "sumarizador = ReductionSummarizer()\n",
        "resumo = sumarizador(parser.document, 5)\n",
        "melhores_sentencas = []\n",
        "for sentenca in resumo:\n",
        "  print(sentenca)"
      ],
      "execution_count": null,
      "outputs": []
    }
  ]
}