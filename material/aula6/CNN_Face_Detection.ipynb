{
  "nbformat": 4,
  "nbformat_minor": 0,
  "metadata": {
    "colab": {
      "provenance": []
    },
    "kernelspec": {
      "name": "python3",
      "display_name": "Python 3"
    },
    "language_info": {
      "name": "python"
    },
    "accelerator": "GPU",
    "gpuClass": "standard"
  },
  "cells": [
    {
      "cell_type": "code",
      "execution_count": null,
      "metadata": {
        "id": "z6SSgKovE6Jp"
      },
      "outputs": [],
      "source": [
        "# Importando as bibliotecas OpenCV, DLib e im_show\n",
        "import cv2\n",
        "import dlib\n",
        "from google.colab.patches import cv2_imshow"
      ]
    },
    {
      "cell_type": "code",
      "source": [
        "imagem = cv2.imread('')"
      ],
      "metadata": {
        "id": "xKllm44aFE8Q"
      },
      "execution_count": null,
      "outputs": []
    },
    {
      "cell_type": "code",
      "source": [
        "detector_face_cnn = dlib.cnn_face_detection_model_v1('/content/mmod_human_face_detector.dat')"
      ],
      "metadata": {
        "id": "SnrY5eQAFLpQ"
      },
      "execution_count": null,
      "outputs": []
    },
    {
      "cell_type": "code",
      "source": [
        "deteccoes = detector_face_cnn(imagem, 1)\n",
        "for face in deteccoes:\n",
        "  l, t, r, b, c = face.rect.left(), face.rect.top(), face.rect.right(), face.rect.bottom(), face.confidence\n",
        "  print(l,t,r,b,c)\n",
        "  cv2.rectangle(imagem,(l,t), (r,b), (255, 255, 0), 1)\n",
        "cv2_imshow(imagem)"
      ],
      "metadata": {
        "id": "TS_txRM0F7T9"
      },
      "execution_count": null,
      "outputs": []
    },
    {
      "cell_type": "code",
      "source": [],
      "metadata": {
        "id": "tcgppvg5dCdo"
      },
      "execution_count": null,
      "outputs": []
    }
  ]
}