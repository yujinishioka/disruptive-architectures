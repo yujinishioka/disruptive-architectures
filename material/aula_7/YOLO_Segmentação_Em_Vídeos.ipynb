{
  "nbformat": 4,
  "nbformat_minor": 0,
  "metadata": {
    "colab": {
      "provenance": []
    },
    "kernelspec": {
      "name": "python3",
      "display_name": "Python 3"
    },
    "language_info": {
      "name": "python"
    },
    "accelerator": "GPU",
    "gpuClass": "standard"
  },
  "cells": [
    {
      "cell_type": "code",
      "execution_count": null,
      "metadata": {
        "id": "_bJdsAv4EHq0"
      },
      "outputs": [],
      "source": [
        "# Instalando a biblioteca do YOLOv8\n",
        "!pip install ultralytics"
      ]
    },
    {
      "cell_type": "code",
      "source": [
        "# Importando o pacote ultralytics\n",
        "import ultralytics"
      ],
      "metadata": {
        "id": "ilkz4hXGEsPm"
      },
      "execution_count": null,
      "outputs": []
    },
    {
      "cell_type": "code",
      "source": [
        "# Importando as demais bibliotecas\n",
        "import cv2\n",
        "import matplotlib.pyplot as plt\n",
        "import os\n",
        "from PIL import Image\n",
        "from google.colab.patches import cv2_imshow"
      ],
      "metadata": {
        "id": "Yiakp0PHEr2t"
      },
      "execution_count": null,
      "outputs": []
    },
    {
      "cell_type": "code",
      "source": [
        "!yolo task=segment mode=predict model=yolov8m-seg.pt conf=0.5 source='/content/video_rua01.mp4' save=True"
      ],
      "metadata": {
        "id": "7y8haEWCETpl"
      },
      "execution_count": null,
      "outputs": []
    },
    {
      "cell_type": "code",
      "source": [
        "video_salvo = \"/content/runs/segment/predict/video_rua01.mp4\"\n",
        "video_final = \"/content/segmentacao_rua01.mp4\" \n",
        "\n",
        "os.system(f\"ffmpeg -i {video_salvo} -vcodec libx264 {video_final}\")"
      ],
      "metadata": {
        "id": "Lx5VWvf9Fpqi"
      },
      "execution_count": null,
      "outputs": []
    },
    {
      "cell_type": "code",
      "source": [
        "def exibir_video(video_caminho):\n",
        "  from IPython.display import HTML\n",
        "  from base64 import b64encode\n",
        "  mp4 = open(video_caminho, 'rb').read()\n",
        "  data_url = \"data:video/mp4;base64,\" + b64encode(mp4).decode()\n",
        "  return HTML(\"\"\"\n",
        "  <video width=500 controls>\n",
        "    <source src=\"%s\" type=\"video/mp4\"\n",
        "  </video>\n",
        "  \"\"\" % data_url)"
      ],
      "metadata": {
        "id": "6_0QkZqmG4gL"
      },
      "execution_count": null,
      "outputs": []
    },
    {
      "cell_type": "code",
      "source": [
        "exibir_video(video_final)"
      ],
      "metadata": {
        "id": "WQEkssxhFzpC"
      },
      "execution_count": null,
      "outputs": []
    },
    {
      "cell_type": "code",
      "source": [],
      "metadata": {
        "id": "aWUXDKScG6Lb"
      },
      "execution_count": null,
      "outputs": []
    }
  ]
}