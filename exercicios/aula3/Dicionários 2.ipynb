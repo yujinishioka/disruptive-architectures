{
  "cells": [
    {
      "cell_type": "markdown",
      "metadata": {
        "id": "XrVxSLneEXfE"
      },
      "source": [
        "Recordando...\n",
        "\n",
        "Dicionários"
      ]
    },
    {
      "cell_type": "code",
      "execution_count": 1,
      "metadata": {
        "id": "FhkmAlBbEebC"
      },
      "outputs": [],
      "source": [
        "nomes = ['Haaland', 'Kane', 'Toney', 'Rashford', 'Mitrovic', 'Salah', 'Martinelli']\n",
        "gols = [27, 18, 14, 14, 11, 11, 11]"
      ]
    },
    {
      "cell_type": "code",
      "execution_count": 2,
      "metadata": {
        "id": "f80IqwhzG982"
      },
      "outputs": [
        {
          "data": {
            "text/plain": [
              "{'Haaland': 27,\n",
              " 'Kane': 18,\n",
              " 'Toney': 14,\n",
              " 'Rashford': 14,\n",
              " 'Mitrovic': 11,\n",
              " 'Salah': 11,\n",
              " 'Martinelli': 11}"
            ]
          },
          "execution_count": 2,
          "metadata": {},
          "output_type": "execute_result"
        }
      ],
      "source": [
        "# Criando dicionários a partir de listas:\n",
        "dados = dict(zip(nomes, gols))\n",
        "dados"
      ]
    },
    {
      "cell_type": "code",
      "execution_count": null,
      "metadata": {
        "id": "yhpxuIqfHLlb"
      },
      "outputs": [],
      "source": [
        "type(dados)"
      ]
    },
    {
      "cell_type": "code",
      "execution_count": null,
      "metadata": {
        "id": "rpwSKWQJfNOf"
      },
      "outputs": [],
      "source": [
        "# Como ver as chaves?\n",
        "dados.keys()"
      ]
    },
    {
      "cell_type": "code",
      "execution_count": null,
      "metadata": {
        "id": "PLfCy6wlfQ7f"
      },
      "outputs": [],
      "source": [
        "# Como ver os valores?\n",
        "dados.values()"
      ]
    },
    {
      "cell_type": "code",
      "execution_count": null,
      "metadata": {
        "id": "kaV1bIlyfUfe"
      },
      "outputs": [],
      "source": [
        "# Como ver os pares chave/valor?\n",
        "dados.items()"
      ]
    },
    {
      "cell_type": "code",
      "execution_count": null,
      "metadata": {
        "id": "g_qTvCzyHP_r"
      },
      "outputs": [],
      "source": [
        "# Percorrendo as chaves:\n",
        "for i in dados.keys():\n",
        "  print(i)"
      ]
    },
    {
      "cell_type": "code",
      "execution_count": null,
      "metadata": {
        "id": "TMlxMp9vHXSm"
      },
      "outputs": [],
      "source": [
        "# Percorrendo os valores:\n",
        "for i in dados.values():\n",
        "  print(i)"
      ]
    },
    {
      "cell_type": "code",
      "execution_count": null,
      "metadata": {
        "id": "W-nlSi5yHjS-"
      },
      "outputs": [],
      "source": [
        "# Percorrendo os pares chave/valor:\n",
        "for i in dados.items():\n",
        "  print(i)"
      ]
    },
    {
      "cell_type": "code",
      "execution_count": null,
      "metadata": {
        "id": "ULNJ8wOyH4a4"
      },
      "outputs": [],
      "source": [
        "# Quais jogadores têm mais de 15 gols?\n"
      ]
    },
    {
      "cell_type": "code",
      "execution_count": null,
      "metadata": {
        "id": "LFB3x11vpAqT"
      },
      "outputs": [],
      "source": [
        "# Quais jogadores tem 11 gols?\n"
      ]
    },
    {
      "cell_type": "markdown",
      "metadata": {
        "id": "sID00QxhgmHD"
      },
      "source": [
        "Principais funções e métodos para dicionários:\n",
        "- Tamanho do dicionário: len(dados)\n",
        "- Atualização ou inserção de dados: dados.update('chave': 'valor'})\n",
        "- Remover de itens e tratar: dados.pop('chave', default)\n",
        "- Deletar item específico: del dados['chave']\n",
        "- Copiar dicionário: dados.copy()\n",
        "- Deletar conteúdo do dicionário: dados.clear()"
      ]
    },
    {
      "cell_type": "code",
      "execution_count": null,
      "metadata": {
        "id": "si8jHmZzoRQ-"
      },
      "outputs": [],
      "source": [
        "# Tamanho do dicionário:\n"
      ]
    },
    {
      "cell_type": "code",
      "execution_count": null,
      "metadata": {
        "id": "rya84nw2oVas"
      },
      "outputs": [],
      "source": [
        "# Atualização ou inserção de dados: \n"
      ]
    },
    {
      "cell_type": "code",
      "execution_count": null,
      "metadata": {
        "id": "ip_FQL_9oZSG"
      },
      "outputs": [],
      "source": [
        "# Remover de itens e tratar: \n"
      ]
    },
    {
      "cell_type": "code",
      "execution_count": null,
      "metadata": {
        "id": "wX-yz6uKognl"
      },
      "outputs": [],
      "source": [
        "# Deletar item específico: \n"
      ]
    },
    {
      "cell_type": "code",
      "execution_count": null,
      "metadata": {
        "id": "6YVEgXVWolYH"
      },
      "outputs": [],
      "source": [
        "# Copiar dicionário:\n",
        "dados2 = dados.copy()\n",
        "dados2"
      ]
    },
    {
      "cell_type": "code",
      "execution_count": null,
      "metadata": {
        "id": "xJs9hOTOopfq"
      },
      "outputs": [],
      "source": [
        "# Deletar contéudo do dicionário:\n",
        "dados2.pop('Salah')"
      ]
    }
  ],
  "metadata": {
    "colab": {
      "provenance": []
    },
    "kernelspec": {
      "display_name": "Python 3",
      "name": "python3"
    },
    "language_info": {
      "name": "python"
    }
  },
  "nbformat": 4,
  "nbformat_minor": 0
}
