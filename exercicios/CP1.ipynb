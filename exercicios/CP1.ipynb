{
  "cells": [
    {
      "cell_type": "markdown",
      "source": [
        "### Curso: Tecnologia em Análise e Desenvolvimento de Sistemas \n",
        "### Disciplina: Disruptive Architectures – IoT, IoB e IA\n",
        "#### Prof. André Tritiack: prof.andrefarias@fiap.com.br\n",
        "#### 1º Semestre de 2023\n"
      ],
      "metadata": {
        "id": "2DVMgSqnRP_X"
      }
    },
    {
      "cell_type": "markdown",
      "source": [
        "## CHECKPOINT 1\n",
        "### Instruções\n",
        "\n",
        "Leia atentamente as instruções.\n",
        "\n",
        "1.\tO trabalho deve ser realizado em grupo de até 6 (seis) pessoas. Não precisa ser o mesmo grupo do Challenge.\n",
        "\n",
        "2.\tVocê deverá submeter este arquivo notebook .ipynb com as respostas nos campos indicados, juntamente com os arquivos auxiliares que utilizar. Caso ache necessário, crie células de texto para comentar suas respostas e apontamentos.\n",
        "\n",
        "3.\tApenas um aluno submeterá no Teams. Mude o nome do arquivo para as iniciais do seu nome completo, seguido do seu RM. Exemplo: ATF12000-CP1\n",
        "\n",
        "4.\tA entrega deverá ser feita até às 23h59 do dia 23/03/2023 na respectiva tarefa no Microsoft Teams.\n",
        "\n",
        "5.\tAs pontuações das questões estão marcadas nos enunciados.\n",
        "\n",
        "6.\tVocê pode usar códigos prontos, mas não copie de outros grupos. Se forem observados arquivos iguais ou muito semelhantes, ambos serão desconsiderados, tendo suas notas zeradas.\n",
        "\n",
        "7.\tTire suas dúvidas com o professor e não deixe para o último dia!!\n"
      ],
      "metadata": {
        "id": "c5INcqeGRP_Z"
      }
    },
    {
      "cell_type": "markdown",
      "source": [
        "### Insira aqui o nome e o RM dos membros do grupo:\n",
        "Exemplo:\n",
        "- Nome1 - RM: XXXXX.\n",
        "- Nome2 - RM: YYYYY."
      ],
      "metadata": {
        "id": "EL_fqQfhRP_Z"
      }
    },
    {
      "cell_type": "markdown",
      "source": [
        "## Questão 1:\n",
        "### Listas e dicionários no Python.\n",
        "### (2.50 pontos)"
      ],
      "metadata": {
        "id": "x96QfyEJRP_a"
      }
    },
    {
      "cell_type": "code",
      "source": [
        "# Crie duas listas:\n",
        "# A primeira deve conter o primeiro nome de cada integrante do grupo.\n",
        "# A segunda deve conter o RM de cada integrante do grupo.\n"
      ],
      "outputs": [],
      "execution_count": null,
      "metadata": {
        "id": "b0eETUHeRP_a"
      }
    },
    {
      "cell_type": "code",
      "source": [
        "# Crie um dicionário a partir das duas listas criadas acima.\n",
        "# Dica: utilize dict e zip, como visto na aula.\n"
      ],
      "outputs": [],
      "execution_count": null,
      "metadata": {
        "id": "5518UPhJRP_a"
      }
    },
    {
      "cell_type": "code",
      "source": [
        "# Escreva um código que permita a inserção de um novo integrante do grupo:\n",
        "# Nome: Howard.\n",
        "# RM: 12345.\n"
      ],
      "outputs": [],
      "execution_count": null,
      "metadata": {
        "id": "R-SkwkT2RP_b"
      }
    },
    {
      "cell_type": "code",
      "source": [
        "# Escreva um código que percorra e retorne todos os nomes dos integrantes do grupo:\n"
      ],
      "outputs": [],
      "execution_count": null,
      "metadata": {
        "id": "6JOsclWiRP_b"
      }
    },
    {
      "cell_type": "code",
      "source": [
        "# Escreva um código que percorra e retorne todos os RMs dos integrantes do grupo:\n"
      ],
      "outputs": [],
      "execution_count": null,
      "metadata": {
        "id": "g-7u66J9RP_b"
      }
    },
    {
      "cell_type": "code",
      "source": [
        "# Escreva um código que crie uma cópia do dicionário original e remova o terceiro integrante do grupo:\n"
      ],
      "outputs": [],
      "execution_count": null,
      "metadata": {
        "id": "LL8NMMt4RP_b"
      }
    },
    {
      "cell_type": "code",
      "source": [
        "# Imprima os dois dicionários resultantes:\n"
      ],
      "outputs": [],
      "execution_count": null,
      "metadata": {
        "id": "UxJnXXHiRP_c"
      }
    },
    {
      "cell_type": "markdown",
      "source": [
        "## Questão 2:\n",
        "### Utilização de arquivos de imagem com OpenCV\n",
        "### (2.50 pontos)\n",
        " "
      ],
      "metadata": {
        "id": "IvbLmiHwRP_c"
      }
    },
    {
      "cell_type": "code",
      "source": [
        "# Importe aqui as bibliotecas necessárias para a atividade.\n"
      ],
      "outputs": [],
      "execution_count": null,
      "metadata": {
        "id": "oBmh0HLuRP_c"
      }
    },
    {
      "cell_type": "code",
      "source": [
        "# Utilize uma imagem pequena (no máximo: 100 x 100 pixels)\n",
        "# Carregue e plote a imagem de sua escolha na tela. \n"
      ],
      "outputs": [],
      "execution_count": null,
      "metadata": {
        "id": "l2AzekVJRP_c"
      }
    },
    {
      "cell_type": "code",
      "source": [
        "# Lembre-se que o Opencv importará o arquivo com os canais de cor no formato \"BGR\".\n",
        "# Ajuste a ordem dos canais para \"RGB\".\n"
      ],
      "outputs": [],
      "execution_count": null,
      "metadata": {
        "id": "5mv1UgJRRP_c"
      }
    },
    {
      "cell_type": "code",
      "source": [
        "# Relacione as dimensões da matriz da imagem (linhas, colunas e canais RGB). \n",
        "# Utilize strings formatadas, como no exemplo da aula.\n"
      ],
      "outputs": [],
      "execution_count": null,
      "metadata": {
        "id": "kYPod4VwRP_c"
      }
    },
    {
      "cell_type": "code",
      "source": [
        "# Converta as imagens em escala de cinza.\n",
        "# Relacione novamente as dimensões da matriz da imagem e comente os resultados. \n",
        "# Utilize strings formatadas, como no item anterior.\n"
      ],
      "outputs": [],
      "execution_count": null,
      "metadata": {
        "id": "p19kqkWcRP_d"
      }
    },
    {
      "cell_type": "code",
      "source": [
        "# Utilizando a interpolação INTER_LINEAR, plote a imagem, ampliada em 10 vezes.\n"
      ],
      "outputs": [],
      "execution_count": null,
      "metadata": {
        "id": "xwe1MrusRP_d"
      }
    },
    {
      "cell_type": "code",
      "source": [
        "# Repita, utilizando a interpolação INTER_NEAREST.\n"
      ],
      "outputs": [],
      "execution_count": null,
      "metadata": {
        "id": "gjUBfxpFRP_d"
      }
    },
    {
      "cell_type": "code",
      "source": [
        "# Repita, utilizando a interpolação INTER_CUBIC.\n"
      ],
      "outputs": [],
      "execution_count": null,
      "metadata": {
        "id": "RI_JQvaLRP_d"
      }
    },
    {
      "cell_type": "markdown",
      "source": [
        "## Questão 3:\n",
        "### Alteração dos valores dos pixels e varredura das imagens.\n",
        "### (5.00 pontos)"
      ],
      "metadata": {
        "id": "5zpuhCB6RP_d"
      }
    },
    {
      "cell_type": "code",
      "source": [
        "# Utilizando o Numpy, crie um array de zeros com 8 linhas e 5 colunas.\n",
        "# Dica: Utilize np.zeros() para criar o array.\n",
        "# Printe o array de zeros.\n"
      ],
      "outputs": [],
      "execution_count": null,
      "metadata": {
        "id": "XnF6hL69RP_d"
      }
    },
    {
      "cell_type": "code",
      "source": [
        "# Plote o array de zeros como uma imagem.\n"
      ],
      "outputs": [],
      "execution_count": null,
      "metadata": {
        "id": "8wUqT2kJRP_d"
      }
    },
    {
      "cell_type": "code",
      "source": [
        "# Redimensione a imagem gerada para 16 linhas x 10 colunas.\n",
        "\n",
        "# Plote o resultado.\n"
      ],
      "outputs": [],
      "execution_count": null,
      "metadata": {
        "id": "aUH6KGLaRP_d"
      }
    },
    {
      "cell_type": "code",
      "source": [
        "# Desenvolva uma rotina capaz de varrer a imagem gerada, pixel a pixel.\n",
        "\n",
        "# Plote o resultado.\n"
      ],
      "outputs": [],
      "execution_count": null,
      "metadata": {
        "id": "IktBZaJJRP_e"
      }
    },
    {
      "cell_type": "code",
      "source": [
        "# Altere todos os pixels da imagem para a cor vermelha.\n",
        "\n",
        "# Plote o resultado.\n"
      ],
      "outputs": [],
      "execution_count": null,
      "metadata": {
        "id": "EIOfNJ-3RP_e"
      }
    },
    {
      "cell_type": "code",
      "source": [
        "# Implemente uma função capaz de desenhar uma linha vertical na cor branca, no centro da imagem.\n",
        "\n",
        "# Plote o resultado."
      ],
      "outputs": [],
      "execution_count": null,
      "metadata": {
        "id": "ulEu7EHSRP_e"
      }
    },
    {
      "cell_type": "code",
      "source": [
        "# Implemente uma função capaz de desenhar (no centro da imagem anterior)\n",
        "# a letra inicial do nome do integrante que irá submeter o checkpoint.\n",
        "\n",
        "# Plote o resultado.\n"
      ],
      "outputs": [],
      "execution_count": null,
      "metadata": {
        "id": "ntIP66kqRP_e"
      }
    }
  ],
  "metadata": {
    "kernelspec": {
      "name": "python",
      "language": "python",
      "display_name": "Pyolite (preview)"
    },
    "language_info": {
      "codemirror_mode": {
        "name": "python",
        "version": 3
      },
      "file_extension": ".py",
      "mimetype": "text/x-python",
      "name": "python",
      "nbconvert_exporter": "python",
      "pygments_lexer": "ipython3",
      "version": "3.8"
    },
    "colab": {
      "provenance": []
    },
    "kernel_info": {
      "name": "python"
    },
    "nteract": {
      "version": "nteract-front-end@1.0.0"
    }
  },
  "nbformat": 4,
  "nbformat_minor": 0
}