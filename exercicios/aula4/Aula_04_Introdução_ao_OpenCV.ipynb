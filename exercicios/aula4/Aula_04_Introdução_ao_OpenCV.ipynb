{
  "nbformat": 4,
  "nbformat_minor": 0,
  "metadata": {
    "colab": {
      "provenance": []
    },
    "kernelspec": {
      "name": "python3",
      "display_name": "Python 3"
    },
    "language_info": {
      "name": "python"
    }
  },
  "cells": [
    {
      "cell_type": "markdown",
      "source": [
        "# Disruptive Architectures - IOT, IOB AND IA\n",
        "\n",
        "AULA 4: INTRODUÇÃO À VISÃO COMPUTACIONAL."
      ],
      "metadata": {
        "id": "gjzYTATp52YF"
      }
    },
    {
      "cell_type": "markdown",
      "source": [
        "**OpenCV** (Open Source Computer Vision Library), originalmente, desenvolvida pela Intel, em 2000, é uma biblioteca multiplataforma, totalmente livre ao uso acadêmico e comercial, para o desenvolvimento de aplicativos na área de Visão computacional."
      ],
      "metadata": {
        "id": "U23vuvf35t0E"
      }
    },
    {
      "cell_type": "code",
      "execution_count": null,
      "metadata": {
        "id": "hSjipnpYKfyu"
      },
      "outputs": [],
      "source": [
        "# Importando a biblioteca OpenCV:\n",
        "import cv2 "
      ]
    },
    {
      "cell_type": "code",
      "source": [
        "# Importando o Numpy:\n",
        "import numpy as np"
      ],
      "metadata": {
        "id": "Hy3YZ9KSKm0y"
      },
      "execution_count": null,
      "outputs": []
    },
    {
      "cell_type": "code",
      "source": [
        "# Verificando a versão do Opencv:\n",
        "print (\"OpenCV Versão : %s \" % cv2.__version__)"
      ],
      "metadata": {
        "id": "oeL7UNrlKsAX"
      },
      "execution_count": null,
      "outputs": []
    },
    {
      "cell_type": "code",
      "source": [
        "# Essa linha nos permite imprimir gráficos no ambiente notebook:\n",
        "# %matplotlib inline\n",
        "\n",
        "# Importando o pacote pyplot dentro do matplotlib:\n",
        "from matplotlib import pyplot as plt"
      ],
      "metadata": {
        "id": "5esrgUziKq1r"
      },
      "execution_count": null,
      "outputs": []
    },
    {
      "cell_type": "code",
      "source": [
        "# Carregando a imagem de exemplo:\n",
        "image = cv2.imread(\"NATUREZA_1.png\")"
      ],
      "metadata": {
        "id": "9wIFK6-nLF85"
      },
      "execution_count": null,
      "outputs": []
    },
    {
      "cell_type": "code",
      "source": [
        "# Mostrando a imagem:\n",
        "plt.imshow(image)"
      ],
      "metadata": {
        "id": "cA-gQAVIMilw"
      },
      "execution_count": null,
      "outputs": []
    },
    {
      "cell_type": "code",
      "source": [
        "# Mostrando a imagem sem os eixos:\n",
        "plt.imshow(image,interpolation=\"none\")\n",
        "plt.axis('off') \n",
        "plt.show()"
      ],
      "metadata": {
        "id": "kk4uQc2xMudQ"
      },
      "execution_count": null,
      "outputs": []
    },
    {
      "cell_type": "code",
      "source": [
        "type(image)"
      ],
      "metadata": {
        "id": "Hm7mCYYJNaRe"
      },
      "execution_count": null,
      "outputs": []
    },
    {
      "cell_type": "markdown",
      "source": [
        "Importante:\n",
        "\n",
        "- A imagem colorida possui três dimensões: as linhas e as colunas da matriz, bem como os canais da imagem. \n",
        "\n",
        "- Uma imagem colorida tipicamente possui três canais: R (Red - vermelho) G (Green - verde) B (Blue - azul)."
      ],
      "metadata": {
        "id": "K-Es4l5zNoy3"
      }
    },
    {
      "cell_type": "code",
      "source": [
        "image"
      ],
      "metadata": {
        "id": "dLENML4KOEen"
      },
      "execution_count": null,
      "outputs": []
    },
    {
      "cell_type": "markdown",
      "source": [
        "Na matriz \"image\" que criamos a partir da imagem, podemos observar as dimensões:\n",
        "\n"
      ],
      "metadata": {
        "id": "xMJ14ctdQtFW"
      }
    },
    {
      "cell_type": "markdown",
      "source": [
        "A matriz acima é a representação da imagem de forma numérica, cada elemento representa cada pixel da imagem. \n",
        "\n",
        "Vamos analisar separando os canais de cores de um pixel específico."
      ],
      "metadata": {
        "id": "F7_aM5JtSaH6"
      }
    },
    {
      "cell_type": "code",
      "source": [
        "dimensoes = image.shape\n",
        "linhas = image.shape[0]\n",
        "colunas = image.shape[1]\n",
        "canais_rgb = image.shape[2]"
      ],
      "metadata": {
        "id": "8-0jTOR8ONnP"
      },
      "execution_count": null,
      "outputs": []
    },
    {
      "cell_type": "code",
      "source": [
        "print(f'Dimensões da imagem: {dimensoes}')\n",
        "print(f'Qtde de linhas: {linhas}')\n",
        "print(f'Qtde de colunas: {colunas}')\n",
        "print(f'Número de camadas de cores (canais RGB): {canais_rgb}')"
      ],
      "metadata": {
        "id": "0Eto63ZRQCLE"
      },
      "execution_count": null,
      "outputs": []
    },
    {
      "cell_type": "code",
      "source": [
        "(r, g, b) = image[50, 50]"
      ],
      "metadata": {
        "id": "iTZ3GGPPSNGc"
      },
      "execution_count": null,
      "outputs": []
    },
    {
      "cell_type": "code",
      "source": [
        "print('O pixel (50, 50) tem as seguintes cores: ')\n",
        "print(f'Vermelho: {r}. Verde: {g}. Azul {b}.')"
      ],
      "metadata": {
        "id": "PJCdBGolS_yM"
      },
      "execution_count": null,
      "outputs": []
    },
    {
      "cell_type": "markdown",
      "source": [
        "**Imagem em tons de cinza**\n",
        "\n",
        "Em muitos casos trabalhamos com imagens na escala de cinza (GRAY SCALE)\n",
        "\n",
        "Logo, neste caso, a imagem possui apenas 1 canal de cor."
      ],
      "metadata": {
        "id": "gQqWn1jnUK1M"
      }
    },
    {
      "cell_type": "code",
      "source": [
        "# Carregando a imagem na versão escala de cinza (grayscale) de um arquivo:\n",
        "image_cinza = cv2.imread('NATUREZA_1.png', cv2.IMREAD_GRAYSCALE)"
      ],
      "metadata": {
        "id": "3JxurdncXZqw"
      },
      "execution_count": null,
      "outputs": []
    },
    {
      "cell_type": "code",
      "source": [
        "plt.imshow(image_cinza, cmap='gray')\n",
        "plt.axis('off') \n",
        "plt.show()"
      ],
      "metadata": {
        "id": "ar02OIf_NRYM"
      },
      "execution_count": null,
      "outputs": []
    },
    {
      "cell_type": "code",
      "source": [
        "# Invertendo canais BGR para RGB:\n",
        "# imagem = cv2.cvtColor(imagem, cv2.COLOR_BGR2RGB)"
      ],
      "metadata": {
        "id": "P8mxMVqSNOMl"
      },
      "execution_count": null,
      "outputs": []
    },
    {
      "cell_type": "code",
      "source": [
        "image_cinza.shape"
      ],
      "metadata": {
        "id": "XHMEgwqgYcA3"
      },
      "execution_count": null,
      "outputs": []
    },
    {
      "cell_type": "markdown",
      "source": [
        "*Alterando o tamanho de uma imagem*\n",
        "\n",
        "O redimensionamento da imagem pode ser feito na OpenCV através do comando: \n",
        "\n",
        "cv2.resize ( imagem, tamanho, interpolação )\n",
        "\n",
        "O tamanho é dado por uma tupla (W,H), onde W é a largura (número de colunas) e H é a altura (número de linhas)"
      ],
      "metadata": {
        "id": "7CdBZyjnaTXi"
      }
    },
    {
      "cell_type": "code",
      "source": [
        "imagem = cv2.imread(\"NATUREZA_1.png\")"
      ],
      "metadata": {
        "id": "NUdXcgpFaBUk"
      },
      "execution_count": null,
      "outputs": []
    },
    {
      "cell_type": "code",
      "source": [
        "plt.imshow(imagem)\n",
        "# plt.axis('off') \n",
        "plt.show()"
      ],
      "metadata": {
        "id": "rt__9NiRVVA_"
      },
      "execution_count": null,
      "outputs": []
    },
    {
      "cell_type": "code",
      "source": [
        "imagem.shape"
      ],
      "metadata": {
        "id": "dY9jleYU4GDu"
      },
      "execution_count": null,
      "outputs": []
    },
    {
      "cell_type": "code",
      "source": [
        "imagem2 = cv2.resize(imagem, (600, 400), cv2.INTER_LINEAR)"
      ],
      "metadata": {
        "id": "BLMvuV3w3cEk"
      },
      "execution_count": null,
      "outputs": []
    },
    {
      "cell_type": "code",
      "source": [
        "imagem2.shape"
      ],
      "metadata": {
        "id": "9UqWRDXz3b_J"
      },
      "execution_count": null,
      "outputs": []
    },
    {
      "cell_type": "code",
      "source": [
        "plt.imshow(imagem2)\n",
        "# plt.axis('off') \n",
        "plt.show()"
      ],
      "metadata": {
        "id": "wnPkrweZ3b0H"
      },
      "execution_count": null,
      "outputs": []
    }
  ]
}