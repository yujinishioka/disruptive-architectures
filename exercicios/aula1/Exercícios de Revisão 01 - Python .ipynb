{
 "cells": [
  {
   "cell_type": "markdown",
   "id": "30a4731a",
   "metadata": {},
   "source": [
    "## Exercício de Revisão 01\n",
    "\n",
    "### Salário com Bônus\n",
    "\n",
    "\n",
    "\n",
    "\n",
    "\n"
   ]
  },
  {
   "cell_type": "markdown",
   "id": "6139a366",
   "metadata": {},
   "source": [
    "Faça um programa que leia o nome de um vendedor, o seu salário fixo e o total de vendas efetuadas por ele no mês (em dinheiro). Sabendo que este vendedor ganha 15% de comissão sobre suas vendas efetuadas, informar o total a receber no final do mês, com duas casas decimais."
   ]
  },
  {
   "cell_type": "markdown",
   "id": "730d7139",
   "metadata": {},
   "source": [
    "Entrada:\n",
    "O arquivo de entrada contém um texto (primeiro nome do vendedor) e 2 valores de dupla precisão (double) com duas casas decimais, representando o salário fixo do vendedor e montante total das vendas efetuadas por este vendedor, respectivamente.\n",
    "\n",
    "Saída:\n",
    "Imprima o total que o funcionário deverá receber."
   ]
  },
  {
   "cell_type": "code",
   "execution_count": null,
   "id": "a1fc78a7",
   "metadata": {},
   "outputs": [],
   "source": [
    "# Utilize os espaços abaixo para escrever a solução."
   ]
  },
  {
   "cell_type": "code",
   "execution_count": null,
   "id": "1057a73b",
   "metadata": {},
   "outputs": [],
   "source": [
    "\n"
   ]
  },
  {
   "cell_type": "code",
   "execution_count": null,
   "id": "ce88d2b2",
   "metadata": {},
   "outputs": [],
   "source": []
  },
  {
   "cell_type": "code",
   "execution_count": null,
   "id": "e277fe78",
   "metadata": {},
   "outputs": [],
   "source": []
  },
  {
   "cell_type": "code",
   "execution_count": null,
   "id": "1dee0a27",
   "metadata": {},
   "outputs": [],
   "source": []
  },
  {
   "cell_type": "code",
   "execution_count": null,
   "id": "37347dd1",
   "metadata": {},
   "outputs": [],
   "source": []
  },
  {
   "cell_type": "code",
   "execution_count": null,
   "id": "1a57ec4f",
   "metadata": {},
   "outputs": [],
   "source": []
  },
  {
   "cell_type": "code",
   "execution_count": null,
   "id": "8f745156",
   "metadata": {},
   "outputs": [],
   "source": []
  },
  {
   "cell_type": "code",
   "execution_count": null,
   "id": "6e9f3bdf",
   "metadata": {},
   "outputs": [],
   "source": []
  },
  {
   "cell_type": "code",
   "execution_count": null,
   "id": "5830fcef",
   "metadata": {},
   "outputs": [],
   "source": []
  },
  {
   "cell_type": "code",
   "execution_count": null,
   "id": "b710698b",
   "metadata": {},
   "outputs": [],
   "source": []
  },
  {
   "cell_type": "code",
   "execution_count": null,
   "id": "df94d52c",
   "metadata": {},
   "outputs": [],
   "source": []
  },
  {
   "cell_type": "code",
   "execution_count": null,
   "id": "0155cee5",
   "metadata": {},
   "outputs": [],
   "source": []
  },
  {
   "cell_type": "code",
   "execution_count": null,
   "id": "44362688",
   "metadata": {},
   "outputs": [],
   "source": []
  },
  {
   "cell_type": "code",
   "execution_count": null,
   "id": "25cabca1",
   "metadata": {},
   "outputs": [],
   "source": []
  },
  {
   "cell_type": "markdown",
   "id": "7938949e",
   "metadata": {},
   "source": [
    "## Exercício de Revisão 02\n",
    "\n",
    "### Distância entre dois pontos\n",
    "\n",
    "Leia os quatro valores correspondentes aos eixos x e y de dois pontos quaisquer no plano, p1(x1,y1) e p2(x2,y2) e calcule a distância entre eles, mostrando 4 casas decimais após a vírgula.\n",
    "\n",
    "Entrada:\n",
    "O arquivo de entrada contém duas linhas de dados. A primeira linha contém dois valores de ponto flutuante: x1 y1 e a segunda linha contém dois valores de ponto flutuante x2 y2.\n",
    "\n",
    "Saída:\n",
    "Calcule e imprima o valor da distância, com 4 casas após o ponto decimal."
   ]
  },
  {
   "cell_type": "code",
   "execution_count": null,
   "id": "26d4ab49",
   "metadata": {},
   "outputs": [],
   "source": [
    "# Utilize os espaços abaixo para escrever a solução."
   ]
  },
  {
   "cell_type": "code",
   "execution_count": null,
   "id": "5a839caf",
   "metadata": {},
   "outputs": [],
   "source": []
  },
  {
   "cell_type": "code",
   "execution_count": null,
   "id": "6d627028",
   "metadata": {},
   "outputs": [],
   "source": []
  },
  {
   "cell_type": "markdown",
   "id": "1ec9ed69",
   "metadata": {},
   "source": [
    "## Exercício de Revisão 03\n",
    "\n",
    "### Tipos de triângulo\n",
    "\n",
    "Leia 3 valores de ponto flutuante A, B e C e ordene-os em ordem decrescente, de modo que o lado A representa o maior dos 3 lados. A seguir, determine o tipo de triângulo que estes três lados formam, com base nos seguintes casos, sempre escrevendo uma mensagem adequada:\n",
    "\n",
    "se A ≥ B+C, apresente a mensagem: NAO FORMA TRIANGULO se A2 = B2 + C2, apresente a mensagem: TRIANGULO RETANGULO se A2 > B2 + C2, apresente a mensagem: TRIANGULO OBTUSANGULO se A2 < B2 + C2, apresente a mensagem: TRIANGULO ACUTANGULO se os três lados forem iguais, apresente a mensagem: TRIANGULO EQUILATERO se apenas dois dos lados forem iguais, apresente a mensagem: TRIANGULO ISOSCELES\n",
    "\n",
    "Entrada: A entrada contem três valores de ponto flutuante de dupla precisão A (0 < A) , B (0 < B) e C (0 < C).\n",
    "\n",
    "Saída: Imprima todas as classificações do triângulo especificado na entrada."
   ]
  },
  {
   "cell_type": "code",
   "execution_count": null,
   "id": "5b09ec97",
   "metadata": {},
   "outputs": [],
   "source": [
    "# Utilize os espaços abaixo para escrever a solução."
   ]
  },
  {
   "cell_type": "code",
   "execution_count": null,
   "id": "6ac8b00c",
   "metadata": {},
   "outputs": [],
   "source": []
  },
  {
   "cell_type": "code",
   "execution_count": null,
   "id": "52b9a5f2",
   "metadata": {},
   "outputs": [],
   "source": []
  },
  {
   "cell_type": "code",
   "execution_count": null,
   "id": "6bde67fc",
   "metadata": {},
   "outputs": [],
   "source": []
  },
  {
   "cell_type": "markdown",
   "id": "9bde8b66",
   "metadata": {},
   "source": [
    "## Exercício de Revisão 04\n",
    "\n",
    "\n",
    "### Média Ponderada\n",
    "Leia quatro números (N1, N2, N3, N4), cada um deles com uma casa decimal, correspondente às quatro notas de um aluno. Calcule a média com pesos 2, 3, 4 e 1, respectivamente, para cada uma destas notas e mostre esta média acompanhada pela mensagem \"Media: \". Se esta média for maior ou igual a 7.0, imprima a mensagem \"Aluno aprovado.\". Se a média calculada for inferior a 5.0, imprima a mensagem \"Aluno reprovado.\". Se a média calculada for um valor entre 5.0 e 6.9, inclusive estas, o programa deve imprimir a mensagem \"Aluno em exame.\".\n",
    "\n",
    "No caso do aluno estar em exame, leia um valor correspondente à nota do exame obtida pelo aluno. Imprima então a mensagem \"Nota do exame: \" acompanhada pela nota digitada. Recalcule a média (some a pontuação do exame com a média anteriormente calculada e divida por 2). e imprima a mensagem \"Aluno aprovado.\" (caso a média final seja 5.0 ou mais ) ou \"Aluno reprovado.\", (caso a média tenha ficado 4.9 ou menos). Para estes dois casos (aprovado ou reprovado após ter pego exame) apresente na última linha uma mensagem \"Media final: \" seguido da média final para esse aluno.\n",
    "\n",
    "Entrada:\n",
    "A entrada contém quatro números de ponto flutuante correspendentes as notas dos alunos.\n",
    "\n",
    "Saída: \n",
    "Todas as respostas devem ser apresentadas com uma casa decimal. As mensagens devem ser impressas conforme a descrição do problema. \n",
    "\n",
    "\n"
   ]
  },
  {
   "cell_type": "code",
   "execution_count": null,
   "id": "324c4ba5",
   "metadata": {},
   "outputs": [],
   "source": [
    "# Utilize os espaços abaixo para escrever a solução."
   ]
  },
  {
   "cell_type": "code",
   "execution_count": null,
   "id": "99aa9c73",
   "metadata": {},
   "outputs": [],
   "source": []
  },
  {
   "cell_type": "code",
   "execution_count": null,
   "id": "41002089",
   "metadata": {},
   "outputs": [],
   "source": []
  },
  {
   "cell_type": "code",
   "execution_count": null,
   "id": "745708dc",
   "metadata": {},
   "outputs": [],
   "source": []
  },
  {
   "cell_type": "code",
   "execution_count": null,
   "id": "3593ebbb",
   "metadata": {},
   "outputs": [],
   "source": []
  }
 ],
 "metadata": {
  "kernelspec": {
   "display_name": "Python 3 (ipykernel)",
   "language": "python",
   "name": "python3"
  },
  "language_info": {
   "codemirror_mode": {
    "name": "ipython",
    "version": 3
   },
   "file_extension": ".py",
   "mimetype": "text/x-python",
   "name": "python",
   "nbconvert_exporter": "python",
   "pygments_lexer": "ipython3",
   "version": "3.9.12"
  }
 },
 "nbformat": 4,
 "nbformat_minor": 5
}
