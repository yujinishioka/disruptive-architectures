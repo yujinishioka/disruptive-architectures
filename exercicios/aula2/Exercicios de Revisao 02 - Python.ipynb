{
  "nbformat": 4,
  "nbformat_minor": 0,
  "metadata": {
    "colab": {
      "provenance": []
    },
    "kernelspec": {
      "name": "python3",
      "display_name": "Python 3"
    },
    "language_info": {
      "name": "python"
    }
  },
  "cells": [
    {
      "cell_type": "markdown",
      "source": [
        "# Aula 02: \n",
        "Listas no Python:\n",
        "- Operações.\n",
        "- Seleções.\n",
        "- Fatiamento.\n",
        "- Métodos.\n"
      ],
      "metadata": {
        "id": "ulJiSUXJMUhF"
      }
    },
    {
      "cell_type": "markdown",
      "source": [
        "**Listas:**\n",
        "\n",
        "- São sequências mutáveis que são utilizadas para armazenar coleções de itens, normalmente homogêneos.\n",
        "\n",
        "- Para criar listas, usamos colchetes [ ] e itens seperados por vírgula.\n"
      ],
      "metadata": {
        "id": "ax-2EEjSMrgQ"
      }
    },
    {
      "cell_type": "code",
      "source": [
        "lista = ['Maçã', 'Laranja', 'Banana', 'Manga', 'Ameixa']\n",
        "lista "
      ],
      "metadata": {
        "id": "9p7UMzoAM0eX"
      },
      "execution_count": null,
      "outputs": []
    },
    {
      "cell_type": "code",
      "source": [
        "type(lista)"
      ],
      "metadata": {
        "id": "X831Hb1cN5uD"
      },
      "execution_count": null,
      "outputs": []
    },
    {
      "cell_type": "markdown",
      "source": [
        "Lista com dados variados"
      ],
      "metadata": {
        "id": "fB_ydhv-OGOy"
      }
    },
    {
      "cell_type": "code",
      "source": [
        "lista_1 = ['Python', 1000, 450, True, ['Python', 'JavaScript', 'C++']]\n",
        "lista_2 = ['The Last Of Us', 'Peacemaker', 'Severance', 3200, False, 600, ['Série', 'Filme', 'Jogo'], 7900]"
      ],
      "metadata": {
        "id": "onUxNwdHOI5-"
      },
      "execution_count": null,
      "outputs": []
    },
    {
      "cell_type": "code",
      "source": [
        "lista_1"
      ],
      "metadata": {
        "id": "rIg32vE-PPX_"
      },
      "execution_count": null,
      "outputs": []
    },
    {
      "cell_type": "code",
      "source": [
        "lista_2"
      ],
      "metadata": {
        "id": "uRgNX4yDPQrM"
      },
      "execution_count": null,
      "outputs": []
    },
    {
      "cell_type": "code",
      "source": [
        "lista_3 = [lista_1, lista_2]\n",
        "lista_3"
      ],
      "metadata": {
        "id": "UXc7k0g3PSYt"
      },
      "execution_count": null,
      "outputs": []
    },
    {
      "cell_type": "markdown",
      "source": [
        "Algumas operações:"
      ],
      "metadata": {
        "id": "2C0Wo7DLPzPq"
      }
    },
    {
      "cell_type": "code",
      "source": [
        "lista"
      ],
      "metadata": {
        "id": "WQM89VFvP2I9"
      },
      "execution_count": null,
      "outputs": []
    },
    {
      "cell_type": "code",
      "source": [
        "# Verificar se o item está na lista:\n",
        "'Laranja' in lista"
      ],
      "metadata": {
        "id": "Y0ALVejVP7N9"
      },
      "execution_count": null,
      "outputs": []
    },
    {
      "cell_type": "code",
      "source": [
        "'Pêssego' in lista"
      ],
      "metadata": {
        "id": "EhaT896JQKJ9"
      },
      "execution_count": null,
      "outputs": []
    },
    {
      "cell_type": "code",
      "source": [
        "'Laranja' not in lista"
      ],
      "metadata": {
        "id": "eNlZA2nmQNK1"
      },
      "execution_count": null,
      "outputs": []
    },
    {
      "cell_type": "code",
      "source": [
        "# Concatenação de lista:\n",
        "cor_1 = ['Amarelo', 'Verde', 'Azul', 'Roxo']\n",
        "cor_2 = ['Vermelho', 'Branco', 'Cinza', 'Laranja']"
      ],
      "metadata": {
        "id": "aiBuoxwwQQQE"
      },
      "execution_count": null,
      "outputs": []
    },
    {
      "cell_type": "code",
      "source": [
        "cor_1"
      ],
      "metadata": {
        "id": "9oSbPtOYQ9Dj"
      },
      "execution_count": null,
      "outputs": []
    },
    {
      "cell_type": "code",
      "source": [
        "cor_2"
      ],
      "metadata": {
        "id": "nYrNxApqQ_Kb"
      },
      "execution_count": null,
      "outputs": []
    },
    {
      "cell_type": "code",
      "source": [
        "cores = cor_1 + cor_2\n",
        "cores"
      ],
      "metadata": {
        "id": "aV8hGAF4RAOM"
      },
      "execution_count": null,
      "outputs": []
    },
    {
      "cell_type": "code",
      "source": [
        "cor_3 = [cor_1, cor_2]\n",
        "cor_3"
      ],
      "metadata": {
        "id": "4vWVPztGdMc8"
      },
      "execution_count": null,
      "outputs": []
    },
    {
      "cell_type": "code",
      "source": [
        "cores"
      ],
      "metadata": {
        "id": "RIlsCH4aefQ4"
      },
      "execution_count": null,
      "outputs": []
    },
    {
      "cell_type": "code",
      "source": [
        "# Tamanho da lista (total de itens):\n",
        "len(cores)"
      ],
      "metadata": {
        "id": "siNyDeoURBsM"
      },
      "execution_count": null,
      "outputs": []
    },
    {
      "cell_type": "code",
      "source": [
        "cor_3"
      ],
      "metadata": {
        "id": "iVoF7lnjejre"
      },
      "execution_count": null,
      "outputs": []
    },
    {
      "cell_type": "code",
      "source": [
        "len(cor_3)"
      ],
      "metadata": {
        "id": "8Zrgx5FUemOV"
      },
      "execution_count": null,
      "outputs": []
    },
    {
      "cell_type": "code",
      "source": [
        "# Seleções em listas por index:\n",
        "lista"
      ],
      "metadata": {
        "id": "52Seaeq8RU-E"
      },
      "execution_count": null,
      "outputs": []
    },
    {
      "cell_type": "code",
      "source": [
        "# O primeiro item tem o índice 0:\n",
        "lista[0]"
      ],
      "metadata": {
        "id": "GBMVPtEXRhtT"
      },
      "execution_count": null,
      "outputs": []
    },
    {
      "cell_type": "code",
      "source": [
        "# Acessando o segundo item:\n",
        "lista[1]"
      ],
      "metadata": {
        "id": "26d_nGfTR6Bj"
      },
      "execution_count": null,
      "outputs": []
    },
    {
      "cell_type": "code",
      "source": [
        "# Acessando o último item (índice = -1):\n",
        "lista[-1]"
      ],
      "metadata": {
        "id": "PposDRorSGMy"
      },
      "execution_count": null,
      "outputs": []
    },
    {
      "cell_type": "code",
      "source": [
        "lista_1"
      ],
      "metadata": {
        "id": "HbMZT49zSN_K"
      },
      "execution_count": null,
      "outputs": []
    },
    {
      "cell_type": "code",
      "source": [
        "lista_3"
      ],
      "metadata": {
        "id": "nONNO6UhSRTj"
      },
      "execution_count": null,
      "outputs": []
    },
    {
      "cell_type": "code",
      "source": [
        "# Acessando a primeira lista:\n",
        "lista_3[0]"
      ],
      "metadata": {
        "id": "gl13qq13SeMD"
      },
      "execution_count": null,
      "outputs": []
    },
    {
      "cell_type": "code",
      "source": [
        "# Acessando um item dentro da lista interna"
      ],
      "metadata": {
        "id": "UqTJM_LqSomC"
      },
      "execution_count": null,
      "outputs": []
    },
    {
      "cell_type": "code",
      "source": [
        "lista_3[0][4]"
      ],
      "metadata": {
        "id": "4vv5lNiGSypS"
      },
      "execution_count": null,
      "outputs": []
    },
    {
      "cell_type": "code",
      "source": [
        "lista_3[0][4][2]"
      ],
      "metadata": {
        "id": "7DNolnxyS4Dr"
      },
      "execution_count": null,
      "outputs": []
    },
    {
      "cell_type": "code",
      "source": [],
      "metadata": {
        "id": "6TpJFS3WTGma"
      },
      "execution_count": null,
      "outputs": []
    },
    {
      "cell_type": "markdown",
      "source": [
        "Fatiamentos (*Slices*):\n",
        "\n",
        "lista[i:j] (o índice i é incluído e o índice j não é incluído)"
      ],
      "metadata": {
        "id": "6vRHzf7yTJwB"
      }
    },
    {
      "cell_type": "code",
      "source": [
        "lista"
      ],
      "metadata": {
        "id": "C48AareGTOWq"
      },
      "execution_count": null,
      "outputs": []
    },
    {
      "cell_type": "code",
      "source": [
        "lista[0:3]"
      ],
      "metadata": {
        "id": "3MzqVJOHTqiZ"
      },
      "execution_count": null,
      "outputs": []
    },
    {
      "cell_type": "code",
      "source": [
        "lista[1:4]"
      ],
      "metadata": {
        "id": "JMuPjKtPTvSp"
      },
      "execution_count": null,
      "outputs": []
    },
    {
      "cell_type": "code",
      "source": [
        "# Acesso até o final da lista:\n",
        "lista[2:]"
      ],
      "metadata": {
        "id": "DkRg1xTXTy4p"
      },
      "execution_count": null,
      "outputs": []
    },
    {
      "cell_type": "code",
      "source": [
        "# Acesso a partir do primeiro item:\n",
        "lista[:3]"
      ],
      "metadata": {
        "id": "MhQktjN1UNFA"
      },
      "execution_count": null,
      "outputs": []
    },
    {
      "cell_type": "markdown",
      "source": [
        "## EXERCÍCIO 01"
      ],
      "metadata": {
        "id": "rpwrqyqzXPXq"
      }
    },
    {
      "cell_type": "code",
      "source": [
        "atores = ['Al Pacino', 'Robert De Niro', 'Christian Bale', 'Jack Nicholson', 'Leonardo Di Caprio', 'Tom Hanks', 'Jamie Foxx', 'Brad Pitt' ]"
      ],
      "metadata": {
        "id": "k3ZUOwtOWoFw"
      },
      "execution_count": null,
      "outputs": []
    },
    {
      "cell_type": "markdown",
      "source": [
        "Dada a lista acima, escreva os códigos (usando fatiamento) para obter como resultado os seguintes itens:\n",
        "1. ['Al Pacino', 'Robert De Niro']\n",
        "2. ['Christian Bale', 'Jack Nicholson', 'Leonardo Di Caprio']\n",
        "3. ['Tom Hanks', 'Jamie Foxx', 'Brad Pitt']\n",
        "\n",
        "\n"
      ],
      "metadata": {
        "id": "llaWb5zdUtIh"
      }
    },
    {
      "cell_type": "code",
      "source": [
        "atores"
      ],
      "metadata": {
        "id": "YM_PEKw5WtE6"
      },
      "execution_count": null,
      "outputs": []
    },
    {
      "cell_type": "code",
      "source": [
        "# Solução do item 1\n"
      ],
      "metadata": {
        "id": "X4oZN0USWt4X"
      },
      "execution_count": null,
      "outputs": []
    },
    {
      "cell_type": "code",
      "source": [
        "# Solução do item 2\n"
      ],
      "metadata": {
        "id": "lUpPiNskW3tt"
      },
      "execution_count": null,
      "outputs": []
    },
    {
      "cell_type": "code",
      "source": [
        "# Solução do item 3\n"
      ],
      "metadata": {
        "id": "j5W5o8zAW3Wm"
      },
      "execution_count": null,
      "outputs": []
    },
    {
      "cell_type": "markdown",
      "source": [
        "## EXERCÍCIO 02\n",
        "Dada a lista abaixo:"
      ],
      "metadata": {
        "id": "H494NzTEXej0"
      }
    },
    {
      "cell_type": "code",
      "source": [
        "nba = [\n",
        "    [\n",
        "        'Michael Jordan',\n",
        "        'Magic Johnson',\n",
        "        40,\n",
        "        'Larry Bird',\n",
        "        False,\n",
        "        ['Stephen Curry', 'Kevin Durant', 'LeBron James']\n",
        "    ],\n",
        "    [\n",
        "        'Patrick Ewing',\n",
        "        'Scott Pippen',\n",
        "        54,\n",
        "        'John Stockton',\n",
        "        True,\n",
        "        ['Giannis Antetokounmpo', 'James Harden', 'Luka Doncic']\n",
        "    ]\n",
        "      ]"
      ],
      "metadata": {
        "id": "xrpbU7PWXy1G"
      },
      "execution_count": null,
      "outputs": []
    },
    {
      "cell_type": "markdown",
      "source": [
        "Escreva os códigos para selecionar os seguintes itens:\n",
        "1. ['Stephen Curry', 'Kevin Durant', 'LeBron James']\n",
        "2. True\n",
        "3. 'James Harden'\n",
        "4. 'Kevin Durant'\n",
        "5. 54"
      ],
      "metadata": {
        "id": "eEFnVU7EaPVT"
      }
    },
    {
      "cell_type": "code",
      "source": [
        "# Solução do item 1\n",
        "nba[0][-1]"
      ],
      "metadata": {
        "id": "j48k95N3a-X0"
      },
      "execution_count": null,
      "outputs": []
    },
    {
      "cell_type": "code",
      "source": [
        "# Solução do item 2\n",
        "nba[1][-2]"
      ],
      "metadata": {
        "id": "CqIkhmnkbDEh"
      },
      "execution_count": null,
      "outputs": []
    },
    {
      "cell_type": "code",
      "source": [
        "# Solução do item 3"
      ],
      "metadata": {
        "id": "9_PB1pJ5bC8Q"
      },
      "execution_count": null,
      "outputs": []
    },
    {
      "cell_type": "code",
      "source": [
        "# Solução do item 4"
      ],
      "metadata": {
        "id": "wjqHyfPtbC0E"
      },
      "execution_count": null,
      "outputs": []
    },
    {
      "cell_type": "code",
      "source": [
        "# Solução do item 5"
      ],
      "metadata": {
        "id": "Z0Eije58bCj2"
      },
      "execution_count": null,
      "outputs": []
    },
    {
      "cell_type": "markdown",
      "source": [
        "Métodos:"
      ],
      "metadata": {
        "id": "PoqiVSjmbST3"
      }
    },
    {
      "cell_type": "markdown",
      "source": [
        "X.append(i)\n",
        "\n",
        "Adiciona o item i à lista X."
      ],
      "metadata": {
        "id": "p7QJYcuhby-v"
      }
    },
    {
      "cell_type": "code",
      "source": [
        "lista"
      ],
      "metadata": {
        "id": "MTmWjT3MbVK6"
      },
      "execution_count": null,
      "outputs": []
    },
    {
      "cell_type": "code",
      "source": [
        "lista.append('Pêssego')\n",
        "lista"
      ],
      "metadata": {
        "id": "nqMtq1_Qb7xT"
      },
      "execution_count": null,
      "outputs": []
    },
    {
      "cell_type": "markdown",
      "source": [
        "X.sort()\n",
        "\n",
        "Ordena a lista X"
      ],
      "metadata": {
        "id": "7yY-4g-dcI3q"
      }
    },
    {
      "cell_type": "code",
      "source": [
        "lista.sort()\n",
        "lista"
      ],
      "metadata": {
        "id": "IQXudUaYcF8T"
      },
      "execution_count": null,
      "outputs": []
    },
    {
      "cell_type": "markdown",
      "source": [
        "X.pop(i)\n",
        "\n",
        "Remove e retorna o elemento de índice i da lista X.\n",
        "(sem passar parâmetro, remove e retorna sempre o último elemento)"
      ],
      "metadata": {
        "id": "xIUFZB3WcevC"
      }
    },
    {
      "cell_type": "code",
      "source": [
        "lista.pop()"
      ],
      "metadata": {
        "id": "BCspzvO-cYFr"
      },
      "execution_count": null,
      "outputs": []
    },
    {
      "cell_type": "code",
      "source": [
        "lista.pop(1)"
      ],
      "metadata": {
        "id": "GBAj7vGgdASK"
      },
      "execution_count": null,
      "outputs": []
    },
    {
      "cell_type": "code",
      "source": [
        "lista"
      ],
      "metadata": {
        "id": "cjpZvw48dC1C"
      },
      "execution_count": null,
      "outputs": []
    },
    {
      "cell_type": "markdown",
      "source": [
        "X.copy()\n",
        "\n",
        "X[:]\n",
        "\n",
        "Cria uma cópia da lista X."
      ],
      "metadata": {
        "id": "ATPgR5ZGeMM-"
      }
    },
    {
      "cell_type": "code",
      "source": [
        "cores"
      ],
      "metadata": {
        "id": "F4NkDa_ld-8c"
      },
      "execution_count": null,
      "outputs": []
    },
    {
      "cell_type": "code",
      "source": [
        "cores_2 = cores\n",
        "cores_2"
      ],
      "metadata": {
        "id": "aKk-deM9dgJy"
      },
      "execution_count": null,
      "outputs": []
    },
    {
      "cell_type": "code",
      "source": [
        "cores_2.append('Rosa')\n",
        "cores_2"
      ],
      "metadata": {
        "id": "1Sw0yZkKeb6h"
      },
      "execution_count": null,
      "outputs": []
    },
    {
      "cell_type": "code",
      "source": [
        "cores"
      ],
      "metadata": {
        "id": "HSuMCam-epBp"
      },
      "execution_count": null,
      "outputs": []
    },
    {
      "cell_type": "markdown",
      "source": [
        "Tome cuidado! As duas listas ocupam o mesmo local na memória!"
      ],
      "metadata": {
        "id": "X57H2uWfe96m"
      }
    },
    {
      "cell_type": "code",
      "source": [
        "# Agora com o .copy\n",
        "cores"
      ],
      "metadata": {
        "id": "cXFGz340evwQ"
      },
      "execution_count": null,
      "outputs": []
    },
    {
      "cell_type": "code",
      "source": [
        "cores.pop()"
      ],
      "metadata": {
        "id": "oTn0nR-0e74Y"
      },
      "execution_count": null,
      "outputs": []
    },
    {
      "cell_type": "code",
      "source": [
        "cores"
      ],
      "metadata": {
        "id": "zB5wT5tbfOpI"
      },
      "execution_count": null,
      "outputs": []
    },
    {
      "cell_type": "code",
      "source": [
        "cores_2 = cores.copy()\n",
        "cores_2"
      ],
      "metadata": {
        "id": "_QvAxVytfP1Q"
      },
      "execution_count": null,
      "outputs": []
    },
    {
      "cell_type": "code",
      "source": [
        "cores_2.append('Rosa')\n",
        "cores_2"
      ],
      "metadata": {
        "id": "rDilsYiqfUlo"
      },
      "execution_count": null,
      "outputs": []
    },
    {
      "cell_type": "code",
      "source": [
        "cores"
      ],
      "metadata": {
        "id": "4IjVPZJKf3QA"
      },
      "execution_count": null,
      "outputs": []
    },
    {
      "cell_type": "code",
      "source": [
        "# Outra forma de fazer o copy:\n",
        "cores_2 = cores[:]"
      ],
      "metadata": {
        "id": "F_EwDCLwf4ug"
      },
      "execution_count": null,
      "outputs": []
    },
    {
      "cell_type": "code",
      "source": [
        "cores_2"
      ],
      "metadata": {
        "id": "swI_nfkogO2g"
      },
      "execution_count": null,
      "outputs": []
    },
    {
      "cell_type": "markdown",
      "source": [
        "## EXERCÍCIO 03"
      ],
      "metadata": {
        "id": "GIl8Y0FDg0GC"
      }
    },
    {
      "cell_type": "code",
      "source": [
        "Personagens = [\n",
        "    'Trevor Philips',\n",
        "    'Carl Johnson',\n",
        "    'Michael De Santa',\n",
        "    'Arthur Morgan',\n",
        "    'Big Smoke'    \n",
        "]\n",
        "\n",
        " "
      ],
      "metadata": {
        "id": "pajlB9t-gRm3"
      },
      "execution_count": null,
      "outputs": []
    },
    {
      "cell_type": "markdown",
      "source": [
        "Dada a lista acima, escreva um código para obter o resultado:\n"
      ],
      "metadata": {
        "id": "r2KmravCg4pM"
      }
    },
    {
      "cell_type": "code",
      "source": [
        "'''\n",
        "['Big Smoke',\n",
        " 'Carl Johnson',\n",
        " 'Franklin Clinton',\n",
        " 'Michael De Santa',\n",
        " 'Trevor Philips']\n",
        "'''"
      ],
      "metadata": {
        "id": "SyUW-ufXgo9J"
      },
      "execution_count": null,
      "outputs": []
    },
    {
      "cell_type": "code",
      "source": [
        "# Escreva o código da solução abaixo:\n"
      ],
      "metadata": {
        "id": "hbzciRb8i2V-"
      },
      "execution_count": null,
      "outputs": []
    },
    {
      "cell_type": "markdown",
      "source": [
        "Iterações nas listas"
      ],
      "metadata": {
        "id": "laTsVIepmH8t"
      }
    },
    {
      "cell_type": "code",
      "source": [
        "cores"
      ],
      "metadata": {
        "id": "vwmuVtq0mHjJ"
      },
      "execution_count": null,
      "outputs": []
    },
    {
      "cell_type": "markdown",
      "source": [
        "Usando o for para percorrer os elementos da lista:\n"
      ],
      "metadata": {
        "id": "1AVl3UaumSWX"
      }
    },
    {
      "cell_type": "code",
      "source": [
        "for i in cores:\n",
        "  print(i)"
      ],
      "metadata": {
        "id": "v4QxHYwbmdLj"
      },
      "execution_count": null,
      "outputs": []
    },
    {
      "cell_type": "markdown",
      "source": [
        "range()\n",
        "\n",
        "Retorna uma lista, iniciando de 0 (default) com incremento unitário."
      ],
      "metadata": {
        "id": "Ts1fMODPmtmh"
      }
    },
    {
      "cell_type": "code",
      "source": [
        "x = range(10)\n",
        "x"
      ],
      "metadata": {
        "id": "EJFuiT7umjfK"
      },
      "execution_count": null,
      "outputs": []
    },
    {
      "cell_type": "code",
      "source": [
        "A = list(range(10))\n",
        "A"
      ],
      "metadata": {
        "id": "xD0QrZLjnD2q"
      },
      "execution_count": null,
      "outputs": []
    },
    {
      "cell_type": "markdown",
      "source": [
        "## EXERCÍCIO 04\n",
        "\n",
        "Crie uma estrutura de repetição para fazer a leitura de cinco números inteiros e os armazene dentro de uma lista. Após a leitura, crie outra estrutura de repetição para somar os valores digitados.\n",
        "\n",
        "\n",
        "\n"
      ],
      "metadata": {
        "id": "vRe7GaE1trny"
      }
    },
    {
      "cell_type": "code",
      "source": [],
      "metadata": {
        "id": "abtCyJpUtqGR"
      },
      "execution_count": null,
      "outputs": []
    }
  ]
}