{
  "nbformat": 4,
  "nbformat_minor": 0,
  "metadata": {
    "colab": {
      "provenance": []
    },
    "kernelspec": {
      "name": "python3",
      "display_name": "Python 3"
    },
    "language_info": {
      "name": "python"
    }
  },
  "cells": [
    {
      "cell_type": "markdown",
      "source": [
        "##**Aula 5: Opencv e Detecção de Faces com Classificador Haarcascades**\n",
        "### Disciplina: Disruptive Architectures: IoT, IoB e IA\n",
        "### Professor: André Tritiack\n",
        "### Turma: 2TDS\n",
        "### 2023"
      ],
      "metadata": {
        "id": "Hhb8N2bfWYLC"
      }
    },
    {
      "cell_type": "code",
      "execution_count": null,
      "metadata": {
        "id": "hGfQ1W9nOGms"
      },
      "outputs": [],
      "source": [
        "# Importando o Opencv\n",
        "import cv2"
      ]
    },
    {
      "cell_type": "code",
      "source": [
        "# Importando a imagem de exemplo\n",
        "imagem = cv2.imread('people1.jpg')"
      ],
      "metadata": {
        "id": "CHtdHvpNON__"
      },
      "execution_count": null,
      "outputs": []
    },
    {
      "cell_type": "code",
      "source": [
        "# Dimensões da imagem\n",
        "imagem.shape"
      ],
      "metadata": {
        "id": "uGSrh1m3R3Bl"
      },
      "execution_count": null,
      "outputs": []
    },
    {
      "cell_type": "code",
      "source": [
        "# Importando o pacote imshow do Opencv para o Google Colab\n",
        "from google.colab.patches import cv2_imshow"
      ],
      "metadata": {
        "id": "IvfPPmC-R5ub"
      },
      "execution_count": null,
      "outputs": []
    },
    {
      "cell_type": "code",
      "source": [
        "# Visualizando a imagem direto pelo Opencv\n",
        "cv2_imshow(imagem)"
      ],
      "metadata": {
        "id": "ytnZS75DYJdN"
      },
      "execution_count": null,
      "outputs": []
    },
    {
      "cell_type": "code",
      "source": [
        "# Redimensionando a imagem\n",
        "imagem = cv2.resize(imagem, (800, 600))\n",
        "imagem.shape"
      ],
      "metadata": {
        "id": "RDNRkO31SD4j"
      },
      "execution_count": null,
      "outputs": []
    },
    {
      "cell_type": "code",
      "source": [
        "# Convertendo em escala de cinza\n",
        "imagem_cinza = cv2.cvtColor(imagem, cv2.COLOR_BGR2GRAY)\n",
        "cv2_imshow(imagem_cinza)"
      ],
      "metadata": {
        "id": "hL_EwgzpSOJU"
      },
      "execution_count": null,
      "outputs": []
    },
    {
      "cell_type": "code",
      "source": [
        "# Verificando novamente as dimensões:\n",
        "imagem_cinza.shape"
      ],
      "metadata": {
        "id": "dAwIxnejSVra"
      },
      "execution_count": null,
      "outputs": []
    },
    {
      "cell_type": "code",
      "source": [
        "print('Dimensões iniciais: ', 600*800*3)\n",
        "print('Dimensões finais: ', 600*800)"
      ],
      "metadata": {
        "id": "V9VSrAOHZEWP"
      },
      "execution_count": null,
      "outputs": []
    },
    {
      "cell_type": "code",
      "source": [
        "# Importando o modelo pré-treinado do classificador Haarcascade\n",
        "detector_facial = cv2.CascadeClassifier('/content/haarcascade_frontalface_default.xml')"
      ],
      "metadata": {
        "id": "JCqtVV_7SecK"
      },
      "execution_count": null,
      "outputs": []
    },
    {
      "cell_type": "code",
      "source": [
        "# Executando a função de detecção de faces\n",
        "deteccoes = detector_facial.detectMultiScale(imagem_cinza)"
      ],
      "metadata": {
        "id": "HmgzJ2EqStXK"
      },
      "execution_count": null,
      "outputs": []
    },
    {
      "cell_type": "code",
      "source": [
        "deteccoes"
      ],
      "metadata": {
        "id": "UdIbtzy1Szw6"
      },
      "execution_count": null,
      "outputs": []
    },
    {
      "cell_type": "code",
      "source": [
        "# As duas primeiras colunas referem-se às coordenadas de início e fim da face encontrada.\n",
        "# As duas últimas referem-se ao tamanho da face encontrada."
      ],
      "metadata": {
        "id": "AamopxTxVMUg"
      },
      "execution_count": null,
      "outputs": []
    },
    {
      "cell_type": "code",
      "source": [
        "len(deteccoes)"
      ],
      "metadata": {
        "id": "LpXwntCUTUjH"
      },
      "execution_count": null,
      "outputs": []
    },
    {
      "cell_type": "code",
      "source": [
        "# Percorrendo as coordenadas da variável \"deteccoes\":\n",
        "# Sendo:\n",
        "# x: start point\n",
        "# y: end point\n",
        "# w: largura\n",
        "# h: altura \n",
        "for x, y, w, h in deteccoes:\n",
        "  print(x, y, w, h)"
      ],
      "metadata": {
        "id": "BBeWMovhZ1QJ"
      },
      "execution_count": null,
      "outputs": []
    },
    {
      "cell_type": "code",
      "source": [
        "# Criando um retângulo com cv2.rectangle(imagem, coordenada inicial, coordenado final, espessura do traço)\n",
        "for x, y, w, h in deteccoes:\n",
        "  #print(x, y, w, h)\n",
        "  cv2.rectangle(imagem, (x, y), (x + w, y + h), (0,255,255), 5)\n",
        "cv2_imshow(imagem)"
      ],
      "metadata": {
        "id": "aEx6c0WmS4pJ"
      },
      "execution_count": null,
      "outputs": []
    },
    {
      "cell_type": "markdown",
      "source": [
        "#### Ajustando o parâmetro Scale Factor."
      ],
      "metadata": {
        "id": "QFNGrji_Tlo5"
      }
    },
    {
      "cell_type": "code",
      "source": [
        "# Valor mínimmo do parâmetro scale factor: 1.00\n",
        "imagem = cv2.imread('people1.jpg')\n",
        "imagem = cv2.resize(imagem, (800, 600))\n",
        "imagem_cinza = cv2.cvtColor(imagem, cv2.COLOR_BGR2GRAY)\n",
        "deteccoes = detector_facial.detectMultiScale(imagem_cinza, scaleFactor=1.09)\n",
        "for (x, y, w, h) in deteccoes:\n",
        "  cv2.rectangle(imagem, (x, y), (x + w, y + h), (0,255,0), 5)\n",
        "cv2_imshow(imagem)"
      ],
      "metadata": {
        "id": "lViCXwKbTtMZ"
      },
      "execution_count": null,
      "outputs": []
    },
    {
      "cell_type": "code",
      "source": [
        "# Ajustando outros parâmetros:\n",
        "# minNeighbors: mínimo de vizinhos detectados considerados faces.\n",
        "# minSize: tamanho mínimo da face.\n",
        "# maxSize: tamanho máximo da face."
      ],
      "metadata": {
        "id": "YMxR9Od6gkzM"
      },
      "execution_count": null,
      "outputs": []
    },
    {
      "cell_type": "code",
      "source": [
        "imagem = cv2.imread('people2.jpg')\n",
        "imagem_cinza = cv2.cvtColor(imagem, cv2.COLOR_BGR2GRAY)\n",
        "deteccoes = detector_facial.detectMultiScale(imagem_cinza, scaleFactor=1.2, minNeighbors=3, minSize=(32,32), maxSize=(100,100))\n",
        "for (x, y, w, h) in deteccoes:\n",
        "  print(w, h)\n",
        "  cv2.rectangle(imagem, (x, y), (x + w, y + h), (0,255,0), 2)\n",
        "cv2_imshow(imagem)"
      ],
      "metadata": {
        "id": "gQfHtPmfecs9"
      },
      "execution_count": null,
      "outputs": []
    }
  ]
}